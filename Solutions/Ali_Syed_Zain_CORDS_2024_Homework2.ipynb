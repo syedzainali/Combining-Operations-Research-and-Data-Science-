{
  "cells": [
    {
      "cell_type": "markdown",
      "metadata": {
        "id": "7MXdMbrS3x-k"
      },
      "source": [
        "<img src=\"img/logo_wiwi_en_.png\" width=\"30%\" align=\"left\">\n",
        "\n",
        "<img src=\"img/decision_analytics_logo.png\" width=\"17%\" align=\"right\">\n",
        "\n",
        "\n",
        "\n",
        "<br><br><br><br><br><br><br><br>\n",
        "\n",
        "\n",
        "\n",
        "# Combining OR and Data Science\n",
        "\n",
        "**Summer Term 2024**\n",
        "\n",
        "\n",
        "# Homework 2\n",
        "12.07.2024 - 15.08.2024\n",
        "\n",
        "\n",
        "<br>\n",
        "\n",
        "<br>\n",
        "<br>\n",
        "\n",
        "**J-Prof. Dr. Michael Römer, Mohsen Nafar**\n",
        "\n",
        "**Decision Analytics Group  | Bielefeld University**"
      ]
    },
    {
      "cell_type": "markdown",
      "metadata": {
        "id": "mkTL1qqo3x-n"
      },
      "source": [
        "This homework is part of the course Combining OR and Data Science. Please upload your solution to the Moodle. You can either hand in a Jupyter notebook containing your code and documentation of what you did (in Markdown Cells), or hand in a Jupyter notebook with your code *and* a pdf with your documentation. Also please also upload a signed Declaration of Originality, see the form that you also find in the zip in Moodle.\n",
        "\n",
        "\n",
        "If you have any technical issues or if something is hard to understand, please send an email to [Mohsen Nafar](mailto:mohsen.nafar@uni-bielefeld.de) or [Michael Römer](mailto:michael.roemer@uni-bielefeld.de)\n",
        "\n",
        "The homework is due on August 15. If you have any issues with that date, e.g. due to exams or other projects or homeworks, please let us know via email.\n",
        "\n",
        "**Important notice: You are not allowed to work in groups.**"
      ]
    },
    {
      "cell_type": "markdown",
      "metadata": {
        "id": "ymCnJ5yR3x-o"
      },
      "source": [
        "## Case Study: Protecting Wildlife, Deterministic Setting"
      ]
    },
    {
      "cell_type": "markdown",
      "metadata": {
        "id": "-0D0bz1x3x-o"
      },
      "source": [
        "Assume you are in charge of designing a new wildlife protection area in a region. The region is assumed to be partititioned into 12 areas among which you can pick those to be protected (the others are not protected).\n",
        "\n",
        "The areas are 0-indexed:"
      ]
    },
    {
      "cell_type": "code",
      "execution_count": null,
      "metadata": {
        "colab": {
          "base_uri": "https://localhost:8080/"
        },
        "id": "sZHFUeK53x-p",
        "outputId": "4575cfef-338d-4e03-d8ff-97838114be28"
      },
      "outputs": [
        {
          "output_type": "execute_result",
          "data": {
            "text/plain": [
              "[0, 1, 2, 3, 4, 5, 6, 7, 8, 9, 10, 11]"
            ]
          },
          "metadata": {},
          "execution_count": 139
        }
      ],
      "source": [
        "areas = list(range(12))\n",
        "areas"
      ]
    },
    {
      "cell_type": "markdown",
      "metadata": {
        "id": "CQ8U-LQv3x-q"
      },
      "source": [
        "Protecting a certain area induces a certain cost; you can find the cost data in the following list:"
      ]
    },
    {
      "cell_type": "code",
      "execution_count": null,
      "metadata": {
        "id": "MTPw7hB63x-q"
      },
      "outputs": [],
      "source": [
        "protection_cost = [20400, 25500, 25600, 16000, 22100, 22400, 14400,  9600, 16000, 28900, 19200, 13500]"
      ]
    },
    {
      "cell_type": "markdown",
      "metadata": {
        "id": "LG8_2j3J3x-q"
      },
      "source": [
        "The primary goal is to protect 5 species, namely:\n",
        "- badger\n",
        "- owl\n",
        "- fox\n",
        "- deer\n",
        "- beaver\n",
        "\n",
        "For the ease of representation in Python, we consider them using numerical indexes:"
      ]
    },
    {
      "cell_type": "code",
      "execution_count": null,
      "metadata": {
        "colab": {
          "base_uri": "https://localhost:8080/"
        },
        "id": "_JIyrQGo3x-r",
        "outputId": "317995d8-5289-4518-c7d9-35336f896a03"
      },
      "outputs": [
        {
          "output_type": "execute_result",
          "data": {
            "text/plain": [
              "[0, 1, 2, 3, 4]"
            ]
          },
          "metadata": {},
          "execution_count": 141
        }
      ],
      "source": [
        "species = list(range(5))\n",
        "species"
      ]
    },
    {
      "cell_type": "markdown",
      "metadata": {
        "id": "9oGpGEEg3x-r"
      },
      "source": [
        "**For each of these species**, for now, we assume that the **number of animals living in each area** is known. These numbers can be found in the following list of lists:\n",
        "\n",
        "\n"
      ]
    },
    {
      "cell_type": "code",
      "execution_count": null,
      "metadata": {
        "id": "wMPfl5H_3x-s"
      },
      "outputs": [],
      "source": [
        "animals_per_area = [[399, 323, 320, 134, 310, 242, 108, 111, 189, 246, 189, 192], [204, 120, 271, 229, 178, 169, 119, 128, 264, 136, 284, 201], [301, 223, 345, 185, 416, 291, 149, 313, 232, 299, 144, 360], [473, 365, 402, 356, 371, 365, 347, 148, 159, 428, 465, 338], [182, 205, 364, 203, 170, 133, 326, 237, 161, 181, 334, 187]]\n"
      ]
    },
    {
      "cell_type": "markdown",
      "metadata": {
        "id": "7RY9tCLE3x-s"
      },
      "source": [
        "Which will will just display as a nicer table using a data frame:"
      ]
    },
    {
      "cell_type": "code",
      "execution_count": null,
      "metadata": {
        "colab": {
          "base_uri": "https://localhost:8080/",
          "height": 231
        },
        "id": "wXBIWxQz3x-s",
        "outputId": "5d8fd907-60be-487d-efc8-fbee53c344f6"
      },
      "outputs": [
        {
          "output_type": "execute_result",
          "data": {
            "text/plain": [
              "          0    1    2    3    4    5    6    7    8    9    10   11\n",
              "species                                                            \n",
              "0        399  323  320  134  310  242  108  111  189  246  189  192\n",
              "1        204  120  271  229  178  169  119  128  264  136  284  201\n",
              "2        301  223  345  185  416  291  149  313  232  299  144  360\n",
              "3        473  365  402  356  371  365  347  148  159  428  465  338\n",
              "4        182  205  364  203  170  133  326  237  161  181  334  187"
            ],
            "text/html": [
              "\n",
              "  <div id=\"df-151bef54-01e9-4b71-880c-ca4aea033cf0\" class=\"colab-df-container\">\n",
              "    <div>\n",
              "<style scoped>\n",
              "    .dataframe tbody tr th:only-of-type {\n",
              "        vertical-align: middle;\n",
              "    }\n",
              "\n",
              "    .dataframe tbody tr th {\n",
              "        vertical-align: top;\n",
              "    }\n",
              "\n",
              "    .dataframe thead th {\n",
              "        text-align: right;\n",
              "    }\n",
              "</style>\n",
              "<table border=\"1\" class=\"dataframe\">\n",
              "  <thead>\n",
              "    <tr style=\"text-align: right;\">\n",
              "      <th></th>\n",
              "      <th>0</th>\n",
              "      <th>1</th>\n",
              "      <th>2</th>\n",
              "      <th>3</th>\n",
              "      <th>4</th>\n",
              "      <th>5</th>\n",
              "      <th>6</th>\n",
              "      <th>7</th>\n",
              "      <th>8</th>\n",
              "      <th>9</th>\n",
              "      <th>10</th>\n",
              "      <th>11</th>\n",
              "    </tr>\n",
              "    <tr>\n",
              "      <th>species</th>\n",
              "      <th></th>\n",
              "      <th></th>\n",
              "      <th></th>\n",
              "      <th></th>\n",
              "      <th></th>\n",
              "      <th></th>\n",
              "      <th></th>\n",
              "      <th></th>\n",
              "      <th></th>\n",
              "      <th></th>\n",
              "      <th></th>\n",
              "      <th></th>\n",
              "    </tr>\n",
              "  </thead>\n",
              "  <tbody>\n",
              "    <tr>\n",
              "      <th>0</th>\n",
              "      <td>399</td>\n",
              "      <td>323</td>\n",
              "      <td>320</td>\n",
              "      <td>134</td>\n",
              "      <td>310</td>\n",
              "      <td>242</td>\n",
              "      <td>108</td>\n",
              "      <td>111</td>\n",
              "      <td>189</td>\n",
              "      <td>246</td>\n",
              "      <td>189</td>\n",
              "      <td>192</td>\n",
              "    </tr>\n",
              "    <tr>\n",
              "      <th>1</th>\n",
              "      <td>204</td>\n",
              "      <td>120</td>\n",
              "      <td>271</td>\n",
              "      <td>229</td>\n",
              "      <td>178</td>\n",
              "      <td>169</td>\n",
              "      <td>119</td>\n",
              "      <td>128</td>\n",
              "      <td>264</td>\n",
              "      <td>136</td>\n",
              "      <td>284</td>\n",
              "      <td>201</td>\n",
              "    </tr>\n",
              "    <tr>\n",
              "      <th>2</th>\n",
              "      <td>301</td>\n",
              "      <td>223</td>\n",
              "      <td>345</td>\n",
              "      <td>185</td>\n",
              "      <td>416</td>\n",
              "      <td>291</td>\n",
              "      <td>149</td>\n",
              "      <td>313</td>\n",
              "      <td>232</td>\n",
              "      <td>299</td>\n",
              "      <td>144</td>\n",
              "      <td>360</td>\n",
              "    </tr>\n",
              "    <tr>\n",
              "      <th>3</th>\n",
              "      <td>473</td>\n",
              "      <td>365</td>\n",
              "      <td>402</td>\n",
              "      <td>356</td>\n",
              "      <td>371</td>\n",
              "      <td>365</td>\n",
              "      <td>347</td>\n",
              "      <td>148</td>\n",
              "      <td>159</td>\n",
              "      <td>428</td>\n",
              "      <td>465</td>\n",
              "      <td>338</td>\n",
              "    </tr>\n",
              "    <tr>\n",
              "      <th>4</th>\n",
              "      <td>182</td>\n",
              "      <td>205</td>\n",
              "      <td>364</td>\n",
              "      <td>203</td>\n",
              "      <td>170</td>\n",
              "      <td>133</td>\n",
              "      <td>326</td>\n",
              "      <td>237</td>\n",
              "      <td>161</td>\n",
              "      <td>181</td>\n",
              "      <td>334</td>\n",
              "      <td>187</td>\n",
              "    </tr>\n",
              "  </tbody>\n",
              "</table>\n",
              "</div>\n",
              "    <div class=\"colab-df-buttons\">\n",
              "\n",
              "  <div class=\"colab-df-container\">\n",
              "    <button class=\"colab-df-convert\" onclick=\"convertToInteractive('df-151bef54-01e9-4b71-880c-ca4aea033cf0')\"\n",
              "            title=\"Convert this dataframe to an interactive table.\"\n",
              "            style=\"display:none;\">\n",
              "\n",
              "  <svg xmlns=\"http://www.w3.org/2000/svg\" height=\"24px\" viewBox=\"0 -960 960 960\">\n",
              "    <path d=\"M120-120v-720h720v720H120Zm60-500h600v-160H180v160Zm220 220h160v-160H400v160Zm0 220h160v-160H400v160ZM180-400h160v-160H180v160Zm440 0h160v-160H620v160ZM180-180h160v-160H180v160Zm440 0h160v-160H620v160Z\"/>\n",
              "  </svg>\n",
              "    </button>\n",
              "\n",
              "  <style>\n",
              "    .colab-df-container {\n",
              "      display:flex;\n",
              "      gap: 12px;\n",
              "    }\n",
              "\n",
              "    .colab-df-convert {\n",
              "      background-color: #E8F0FE;\n",
              "      border: none;\n",
              "      border-radius: 50%;\n",
              "      cursor: pointer;\n",
              "      display: none;\n",
              "      fill: #1967D2;\n",
              "      height: 32px;\n",
              "      padding: 0 0 0 0;\n",
              "      width: 32px;\n",
              "    }\n",
              "\n",
              "    .colab-df-convert:hover {\n",
              "      background-color: #E2EBFA;\n",
              "      box-shadow: 0px 1px 2px rgba(60, 64, 67, 0.3), 0px 1px 3px 1px rgba(60, 64, 67, 0.15);\n",
              "      fill: #174EA6;\n",
              "    }\n",
              "\n",
              "    .colab-df-buttons div {\n",
              "      margin-bottom: 4px;\n",
              "    }\n",
              "\n",
              "    [theme=dark] .colab-df-convert {\n",
              "      background-color: #3B4455;\n",
              "      fill: #D2E3FC;\n",
              "    }\n",
              "\n",
              "    [theme=dark] .colab-df-convert:hover {\n",
              "      background-color: #434B5C;\n",
              "      box-shadow: 0px 1px 3px 1px rgba(0, 0, 0, 0.15);\n",
              "      filter: drop-shadow(0px 1px 2px rgba(0, 0, 0, 0.3));\n",
              "      fill: #FFFFFF;\n",
              "    }\n",
              "  </style>\n",
              "\n",
              "    <script>\n",
              "      const buttonEl =\n",
              "        document.querySelector('#df-151bef54-01e9-4b71-880c-ca4aea033cf0 button.colab-df-convert');\n",
              "      buttonEl.style.display =\n",
              "        google.colab.kernel.accessAllowed ? 'block' : 'none';\n",
              "\n",
              "      async function convertToInteractive(key) {\n",
              "        const element = document.querySelector('#df-151bef54-01e9-4b71-880c-ca4aea033cf0');\n",
              "        const dataTable =\n",
              "          await google.colab.kernel.invokeFunction('convertToInteractive',\n",
              "                                                    [key], {});\n",
              "        if (!dataTable) return;\n",
              "\n",
              "        const docLinkHtml = 'Like what you see? Visit the ' +\n",
              "          '<a target=\"_blank\" href=https://colab.research.google.com/notebooks/data_table.ipynb>data table notebook</a>'\n",
              "          + ' to learn more about interactive tables.';\n",
              "        element.innerHTML = '';\n",
              "        dataTable['output_type'] = 'display_data';\n",
              "        await google.colab.output.renderOutput(dataTable, element);\n",
              "        const docLink = document.createElement('div');\n",
              "        docLink.innerHTML = docLinkHtml;\n",
              "        element.appendChild(docLink);\n",
              "      }\n",
              "    </script>\n",
              "  </div>\n",
              "\n",
              "\n",
              "<div id=\"df-5cf9fb13-807b-4990-9a4d-791b6fe8b0ca\">\n",
              "  <button class=\"colab-df-quickchart\" onclick=\"quickchart('df-5cf9fb13-807b-4990-9a4d-791b6fe8b0ca')\"\n",
              "            title=\"Suggest charts\"\n",
              "            style=\"display:none;\">\n",
              "\n",
              "<svg xmlns=\"http://www.w3.org/2000/svg\" height=\"24px\"viewBox=\"0 0 24 24\"\n",
              "     width=\"24px\">\n",
              "    <g>\n",
              "        <path d=\"M19 3H5c-1.1 0-2 .9-2 2v14c0 1.1.9 2 2 2h14c1.1 0 2-.9 2-2V5c0-1.1-.9-2-2-2zM9 17H7v-7h2v7zm4 0h-2V7h2v10zm4 0h-2v-4h2v4z\"/>\n",
              "    </g>\n",
              "</svg>\n",
              "  </button>\n",
              "\n",
              "<style>\n",
              "  .colab-df-quickchart {\n",
              "      --bg-color: #E8F0FE;\n",
              "      --fill-color: #1967D2;\n",
              "      --hover-bg-color: #E2EBFA;\n",
              "      --hover-fill-color: #174EA6;\n",
              "      --disabled-fill-color: #AAA;\n",
              "      --disabled-bg-color: #DDD;\n",
              "  }\n",
              "\n",
              "  [theme=dark] .colab-df-quickchart {\n",
              "      --bg-color: #3B4455;\n",
              "      --fill-color: #D2E3FC;\n",
              "      --hover-bg-color: #434B5C;\n",
              "      --hover-fill-color: #FFFFFF;\n",
              "      --disabled-bg-color: #3B4455;\n",
              "      --disabled-fill-color: #666;\n",
              "  }\n",
              "\n",
              "  .colab-df-quickchart {\n",
              "    background-color: var(--bg-color);\n",
              "    border: none;\n",
              "    border-radius: 50%;\n",
              "    cursor: pointer;\n",
              "    display: none;\n",
              "    fill: var(--fill-color);\n",
              "    height: 32px;\n",
              "    padding: 0;\n",
              "    width: 32px;\n",
              "  }\n",
              "\n",
              "  .colab-df-quickchart:hover {\n",
              "    background-color: var(--hover-bg-color);\n",
              "    box-shadow: 0 1px 2px rgba(60, 64, 67, 0.3), 0 1px 3px 1px rgba(60, 64, 67, 0.15);\n",
              "    fill: var(--button-hover-fill-color);\n",
              "  }\n",
              "\n",
              "  .colab-df-quickchart-complete:disabled,\n",
              "  .colab-df-quickchart-complete:disabled:hover {\n",
              "    background-color: var(--disabled-bg-color);\n",
              "    fill: var(--disabled-fill-color);\n",
              "    box-shadow: none;\n",
              "  }\n",
              "\n",
              "  .colab-df-spinner {\n",
              "    border: 2px solid var(--fill-color);\n",
              "    border-color: transparent;\n",
              "    border-bottom-color: var(--fill-color);\n",
              "    animation:\n",
              "      spin 1s steps(1) infinite;\n",
              "  }\n",
              "\n",
              "  @keyframes spin {\n",
              "    0% {\n",
              "      border-color: transparent;\n",
              "      border-bottom-color: var(--fill-color);\n",
              "      border-left-color: var(--fill-color);\n",
              "    }\n",
              "    20% {\n",
              "      border-color: transparent;\n",
              "      border-left-color: var(--fill-color);\n",
              "      border-top-color: var(--fill-color);\n",
              "    }\n",
              "    30% {\n",
              "      border-color: transparent;\n",
              "      border-left-color: var(--fill-color);\n",
              "      border-top-color: var(--fill-color);\n",
              "      border-right-color: var(--fill-color);\n",
              "    }\n",
              "    40% {\n",
              "      border-color: transparent;\n",
              "      border-right-color: var(--fill-color);\n",
              "      border-top-color: var(--fill-color);\n",
              "    }\n",
              "    60% {\n",
              "      border-color: transparent;\n",
              "      border-right-color: var(--fill-color);\n",
              "    }\n",
              "    80% {\n",
              "      border-color: transparent;\n",
              "      border-right-color: var(--fill-color);\n",
              "      border-bottom-color: var(--fill-color);\n",
              "    }\n",
              "    90% {\n",
              "      border-color: transparent;\n",
              "      border-bottom-color: var(--fill-color);\n",
              "    }\n",
              "  }\n",
              "</style>\n",
              "\n",
              "  <script>\n",
              "    async function quickchart(key) {\n",
              "      const quickchartButtonEl =\n",
              "        document.querySelector('#' + key + ' button');\n",
              "      quickchartButtonEl.disabled = true;  // To prevent multiple clicks.\n",
              "      quickchartButtonEl.classList.add('colab-df-spinner');\n",
              "      try {\n",
              "        const charts = await google.colab.kernel.invokeFunction(\n",
              "            'suggestCharts', [key], {});\n",
              "      } catch (error) {\n",
              "        console.error('Error during call to suggestCharts:', error);\n",
              "      }\n",
              "      quickchartButtonEl.classList.remove('colab-df-spinner');\n",
              "      quickchartButtonEl.classList.add('colab-df-quickchart-complete');\n",
              "    }\n",
              "    (() => {\n",
              "      let quickchartButtonEl =\n",
              "        document.querySelector('#df-5cf9fb13-807b-4990-9a4d-791b6fe8b0ca button');\n",
              "      quickchartButtonEl.style.display =\n",
              "        google.colab.kernel.accessAllowed ? 'block' : 'none';\n",
              "    })();\n",
              "  </script>\n",
              "</div>\n",
              "\n",
              "  <div id=\"id_76c4467c-1c1b-473c-9263-fc3b5df23e0e\">\n",
              "    <style>\n",
              "      .colab-df-generate {\n",
              "        background-color: #E8F0FE;\n",
              "        border: none;\n",
              "        border-radius: 50%;\n",
              "        cursor: pointer;\n",
              "        display: none;\n",
              "        fill: #1967D2;\n",
              "        height: 32px;\n",
              "        padding: 0 0 0 0;\n",
              "        width: 32px;\n",
              "      }\n",
              "\n",
              "      .colab-df-generate:hover {\n",
              "        background-color: #E2EBFA;\n",
              "        box-shadow: 0px 1px 2px rgba(60, 64, 67, 0.3), 0px 1px 3px 1px rgba(60, 64, 67, 0.15);\n",
              "        fill: #174EA6;\n",
              "      }\n",
              "\n",
              "      [theme=dark] .colab-df-generate {\n",
              "        background-color: #3B4455;\n",
              "        fill: #D2E3FC;\n",
              "      }\n",
              "\n",
              "      [theme=dark] .colab-df-generate:hover {\n",
              "        background-color: #434B5C;\n",
              "        box-shadow: 0px 1px 3px 1px rgba(0, 0, 0, 0.15);\n",
              "        filter: drop-shadow(0px 1px 2px rgba(0, 0, 0, 0.3));\n",
              "        fill: #FFFFFF;\n",
              "      }\n",
              "    </style>\n",
              "    <button class=\"colab-df-generate\" onclick=\"generateWithVariable('pd_animals_area')\"\n",
              "            title=\"Generate code using this dataframe.\"\n",
              "            style=\"display:none;\">\n",
              "\n",
              "  <svg xmlns=\"http://www.w3.org/2000/svg\" height=\"24px\"viewBox=\"0 0 24 24\"\n",
              "       width=\"24px\">\n",
              "    <path d=\"M7,19H8.4L18.45,9,17,7.55,7,17.6ZM5,21V16.75L18.45,3.32a2,2,0,0,1,2.83,0l1.4,1.43a1.91,1.91,0,0,1,.58,1.4,1.91,1.91,0,0,1-.58,1.4L9.25,21ZM18.45,9,17,7.55Zm-12,3A5.31,5.31,0,0,0,4.9,8.1,5.31,5.31,0,0,0,1,6.5,5.31,5.31,0,0,0,4.9,4.9,5.31,5.31,0,0,0,6.5,1,5.31,5.31,0,0,0,8.1,4.9,5.31,5.31,0,0,0,12,6.5,5.46,5.46,0,0,0,6.5,12Z\"/>\n",
              "  </svg>\n",
              "    </button>\n",
              "    <script>\n",
              "      (() => {\n",
              "      const buttonEl =\n",
              "        document.querySelector('#id_76c4467c-1c1b-473c-9263-fc3b5df23e0e button.colab-df-generate');\n",
              "      buttonEl.style.display =\n",
              "        google.colab.kernel.accessAllowed ? 'block' : 'none';\n",
              "\n",
              "      buttonEl.onclick = () => {\n",
              "        google.colab.notebook.generateWithVariable('pd_animals_area');\n",
              "      }\n",
              "      })();\n",
              "    </script>\n",
              "  </div>\n",
              "\n",
              "    </div>\n",
              "  </div>\n"
            ],
            "application/vnd.google.colaboratory.intrinsic+json": {
              "type": "dataframe",
              "variable_name": "pd_animals_area",
              "summary": "{\n  \"name\": \"pd_animals_area\",\n  \"rows\": 5,\n  \"fields\": [\n    {\n      \"column\": \"species\",\n      \"properties\": {\n        \"dtype\": \"number\",\n        \"std\": 1,\n        \"min\": 0,\n        \"max\": 4,\n        \"num_unique_values\": 5,\n        \"samples\": [\n          1,\n          4,\n          2\n        ],\n        \"semantic_type\": \"\",\n        \"description\": \"\"\n      }\n    },\n    {\n      \"column\": 0,\n      \"properties\": {\n        \"dtype\": \"number\",\n        \"std\": 124,\n        \"min\": 182,\n        \"max\": 473,\n        \"num_unique_values\": 5,\n        \"samples\": [\n          204,\n          182,\n          301\n        ],\n        \"semantic_type\": \"\",\n        \"description\": \"\"\n      }\n    },\n    {\n      \"column\": 1,\n      \"properties\": {\n        \"dtype\": \"number\",\n        \"std\": 97,\n        \"min\": 120,\n        \"max\": 365,\n        \"num_unique_values\": 5,\n        \"samples\": [\n          120,\n          205,\n          223\n        ],\n        \"semantic_type\": \"\",\n        \"description\": \"\"\n      }\n    },\n    {\n      \"column\": 2,\n      \"properties\": {\n        \"dtype\": \"number\",\n        \"std\": 49,\n        \"min\": 271,\n        \"max\": 402,\n        \"num_unique_values\": 5,\n        \"samples\": [\n          271,\n          364,\n          345\n        ],\n        \"semantic_type\": \"\",\n        \"description\": \"\"\n      }\n    },\n    {\n      \"column\": 3,\n      \"properties\": {\n        \"dtype\": \"number\",\n        \"std\": 82,\n        \"min\": 134,\n        \"max\": 356,\n        \"num_unique_values\": 5,\n        \"samples\": [\n          229,\n          203,\n          185\n        ],\n        \"semantic_type\": \"\",\n        \"description\": \"\"\n      }\n    },\n    {\n      \"column\": 4,\n      \"properties\": {\n        \"dtype\": \"number\",\n        \"std\": 111,\n        \"min\": 170,\n        \"max\": 416,\n        \"num_unique_values\": 5,\n        \"samples\": [\n          178,\n          170,\n          416\n        ],\n        \"semantic_type\": \"\",\n        \"description\": \"\"\n      }\n    },\n    {\n      \"column\": 5,\n      \"properties\": {\n        \"dtype\": \"number\",\n        \"std\": 93,\n        \"min\": 133,\n        \"max\": 365,\n        \"num_unique_values\": 5,\n        \"samples\": [\n          169,\n          133,\n          291\n        ],\n        \"semantic_type\": \"\",\n        \"description\": \"\"\n      }\n    },\n    {\n      \"column\": 6,\n      \"properties\": {\n        \"dtype\": \"number\",\n        \"std\": 116,\n        \"min\": 108,\n        \"max\": 347,\n        \"num_unique_values\": 5,\n        \"samples\": [\n          119,\n          326,\n          149\n        ],\n        \"semantic_type\": \"\",\n        \"description\": \"\"\n      }\n    },\n    {\n      \"column\": 7,\n      \"properties\": {\n        \"dtype\": \"number\",\n        \"std\": 85,\n        \"min\": 111,\n        \"max\": 313,\n        \"num_unique_values\": 5,\n        \"samples\": [\n          128,\n          237,\n          313\n        ],\n        \"semantic_type\": \"\",\n        \"description\": \"\"\n      }\n    },\n    {\n      \"column\": 8,\n      \"properties\": {\n        \"dtype\": \"number\",\n        \"std\": 45,\n        \"min\": 159,\n        \"max\": 264,\n        \"num_unique_values\": 5,\n        \"samples\": [\n          264,\n          161,\n          232\n        ],\n        \"semantic_type\": \"\",\n        \"description\": \"\"\n      }\n    },\n    {\n      \"column\": 9,\n      \"properties\": {\n        \"dtype\": \"number\",\n        \"std\": 113,\n        \"min\": 136,\n        \"max\": 428,\n        \"num_unique_values\": 5,\n        \"samples\": [\n          136,\n          181,\n          299\n        ],\n        \"semantic_type\": \"\",\n        \"description\": \"\"\n      }\n    },\n    {\n      \"column\": 10,\n      \"properties\": {\n        \"dtype\": \"number\",\n        \"std\": 126,\n        \"min\": 144,\n        \"max\": 465,\n        \"num_unique_values\": 5,\n        \"samples\": [\n          284,\n          334,\n          144\n        ],\n        \"semantic_type\": \"\",\n        \"description\": \"\"\n      }\n    },\n    {\n      \"column\": 11,\n      \"properties\": {\n        \"dtype\": \"number\",\n        \"std\": 85,\n        \"min\": 187,\n        \"max\": 360,\n        \"num_unique_values\": 5,\n        \"samples\": [\n          201,\n          187,\n          360\n        ],\n        \"semantic_type\": \"\",\n        \"description\": \"\"\n      }\n    }\n  ]\n}"
            }
          },
          "metadata": {},
          "execution_count": 143
        }
      ],
      "source": [
        "import pandas as pd\n",
        "pd_animals_area = pd.DataFrame(animals_per_area)\n",
        "pd_animals_area.index.name=\"species\"\n",
        "pd_animals_area"
      ]
    },
    {
      "cell_type": "markdown",
      "metadata": {
        "id": "YaJxO1t-3x-t"
      },
      "source": [
        "\n",
        "For each species, there is a  **protection goal**. The protected areas have to be selected in a way that for each species, the total number of animals from that species living in protected areas is at least as high as the protection goal. The protection goal for each species are given as follows:\n"
      ]
    },
    {
      "cell_type": "code",
      "execution_count": null,
      "metadata": {
        "colab": {
          "base_uri": "https://localhost:8080/",
          "height": 231
        },
        "id": "5b8KZw9c3x-t",
        "outputId": "ac1ba53d-0bef-4e11-d771-a8635d911123"
      },
      "outputs": [
        {
          "output_type": "execute_result",
          "data": {
            "text/plain": [
              "         protection_goal\n",
              "species                 \n",
              "0                    700\n",
              "1                    560\n",
              "2                   1050\n",
              "3                   1400\n",
              "4                    840"
            ],
            "text/html": [
              "\n",
              "  <div id=\"df-14c9b673-7efa-4bb8-83d0-724e525a75e0\" class=\"colab-df-container\">\n",
              "    <div>\n",
              "<style scoped>\n",
              "    .dataframe tbody tr th:only-of-type {\n",
              "        vertical-align: middle;\n",
              "    }\n",
              "\n",
              "    .dataframe tbody tr th {\n",
              "        vertical-align: top;\n",
              "    }\n",
              "\n",
              "    .dataframe thead th {\n",
              "        text-align: right;\n",
              "    }\n",
              "</style>\n",
              "<table border=\"1\" class=\"dataframe\">\n",
              "  <thead>\n",
              "    <tr style=\"text-align: right;\">\n",
              "      <th></th>\n",
              "      <th>protection_goal</th>\n",
              "    </tr>\n",
              "    <tr>\n",
              "      <th>species</th>\n",
              "      <th></th>\n",
              "    </tr>\n",
              "  </thead>\n",
              "  <tbody>\n",
              "    <tr>\n",
              "      <th>0</th>\n",
              "      <td>700</td>\n",
              "    </tr>\n",
              "    <tr>\n",
              "      <th>1</th>\n",
              "      <td>560</td>\n",
              "    </tr>\n",
              "    <tr>\n",
              "      <th>2</th>\n",
              "      <td>1050</td>\n",
              "    </tr>\n",
              "    <tr>\n",
              "      <th>3</th>\n",
              "      <td>1400</td>\n",
              "    </tr>\n",
              "    <tr>\n",
              "      <th>4</th>\n",
              "      <td>840</td>\n",
              "    </tr>\n",
              "  </tbody>\n",
              "</table>\n",
              "</div>\n",
              "    <div class=\"colab-df-buttons\">\n",
              "\n",
              "  <div class=\"colab-df-container\">\n",
              "    <button class=\"colab-df-convert\" onclick=\"convertToInteractive('df-14c9b673-7efa-4bb8-83d0-724e525a75e0')\"\n",
              "            title=\"Convert this dataframe to an interactive table.\"\n",
              "            style=\"display:none;\">\n",
              "\n",
              "  <svg xmlns=\"http://www.w3.org/2000/svg\" height=\"24px\" viewBox=\"0 -960 960 960\">\n",
              "    <path d=\"M120-120v-720h720v720H120Zm60-500h600v-160H180v160Zm220 220h160v-160H400v160Zm0 220h160v-160H400v160ZM180-400h160v-160H180v160Zm440 0h160v-160H620v160ZM180-180h160v-160H180v160Zm440 0h160v-160H620v160Z\"/>\n",
              "  </svg>\n",
              "    </button>\n",
              "\n",
              "  <style>\n",
              "    .colab-df-container {\n",
              "      display:flex;\n",
              "      gap: 12px;\n",
              "    }\n",
              "\n",
              "    .colab-df-convert {\n",
              "      background-color: #E8F0FE;\n",
              "      border: none;\n",
              "      border-radius: 50%;\n",
              "      cursor: pointer;\n",
              "      display: none;\n",
              "      fill: #1967D2;\n",
              "      height: 32px;\n",
              "      padding: 0 0 0 0;\n",
              "      width: 32px;\n",
              "    }\n",
              "\n",
              "    .colab-df-convert:hover {\n",
              "      background-color: #E2EBFA;\n",
              "      box-shadow: 0px 1px 2px rgba(60, 64, 67, 0.3), 0px 1px 3px 1px rgba(60, 64, 67, 0.15);\n",
              "      fill: #174EA6;\n",
              "    }\n",
              "\n",
              "    .colab-df-buttons div {\n",
              "      margin-bottom: 4px;\n",
              "    }\n",
              "\n",
              "    [theme=dark] .colab-df-convert {\n",
              "      background-color: #3B4455;\n",
              "      fill: #D2E3FC;\n",
              "    }\n",
              "\n",
              "    [theme=dark] .colab-df-convert:hover {\n",
              "      background-color: #434B5C;\n",
              "      box-shadow: 0px 1px 3px 1px rgba(0, 0, 0, 0.15);\n",
              "      filter: drop-shadow(0px 1px 2px rgba(0, 0, 0, 0.3));\n",
              "      fill: #FFFFFF;\n",
              "    }\n",
              "  </style>\n",
              "\n",
              "    <script>\n",
              "      const buttonEl =\n",
              "        document.querySelector('#df-14c9b673-7efa-4bb8-83d0-724e525a75e0 button.colab-df-convert');\n",
              "      buttonEl.style.display =\n",
              "        google.colab.kernel.accessAllowed ? 'block' : 'none';\n",
              "\n",
              "      async function convertToInteractive(key) {\n",
              "        const element = document.querySelector('#df-14c9b673-7efa-4bb8-83d0-724e525a75e0');\n",
              "        const dataTable =\n",
              "          await google.colab.kernel.invokeFunction('convertToInteractive',\n",
              "                                                    [key], {});\n",
              "        if (!dataTable) return;\n",
              "\n",
              "        const docLinkHtml = 'Like what you see? Visit the ' +\n",
              "          '<a target=\"_blank\" href=https://colab.research.google.com/notebooks/data_table.ipynb>data table notebook</a>'\n",
              "          + ' to learn more about interactive tables.';\n",
              "        element.innerHTML = '';\n",
              "        dataTable['output_type'] = 'display_data';\n",
              "        await google.colab.output.renderOutput(dataTable, element);\n",
              "        const docLink = document.createElement('div');\n",
              "        docLink.innerHTML = docLinkHtml;\n",
              "        element.appendChild(docLink);\n",
              "      }\n",
              "    </script>\n",
              "  </div>\n",
              "\n",
              "\n",
              "<div id=\"df-880da99d-d926-4e12-9f56-19f225611226\">\n",
              "  <button class=\"colab-df-quickchart\" onclick=\"quickchart('df-880da99d-d926-4e12-9f56-19f225611226')\"\n",
              "            title=\"Suggest charts\"\n",
              "            style=\"display:none;\">\n",
              "\n",
              "<svg xmlns=\"http://www.w3.org/2000/svg\" height=\"24px\"viewBox=\"0 0 24 24\"\n",
              "     width=\"24px\">\n",
              "    <g>\n",
              "        <path d=\"M19 3H5c-1.1 0-2 .9-2 2v14c0 1.1.9 2 2 2h14c1.1 0 2-.9 2-2V5c0-1.1-.9-2-2-2zM9 17H7v-7h2v7zm4 0h-2V7h2v10zm4 0h-2v-4h2v4z\"/>\n",
              "    </g>\n",
              "</svg>\n",
              "  </button>\n",
              "\n",
              "<style>\n",
              "  .colab-df-quickchart {\n",
              "      --bg-color: #E8F0FE;\n",
              "      --fill-color: #1967D2;\n",
              "      --hover-bg-color: #E2EBFA;\n",
              "      --hover-fill-color: #174EA6;\n",
              "      --disabled-fill-color: #AAA;\n",
              "      --disabled-bg-color: #DDD;\n",
              "  }\n",
              "\n",
              "  [theme=dark] .colab-df-quickchart {\n",
              "      --bg-color: #3B4455;\n",
              "      --fill-color: #D2E3FC;\n",
              "      --hover-bg-color: #434B5C;\n",
              "      --hover-fill-color: #FFFFFF;\n",
              "      --disabled-bg-color: #3B4455;\n",
              "      --disabled-fill-color: #666;\n",
              "  }\n",
              "\n",
              "  .colab-df-quickchart {\n",
              "    background-color: var(--bg-color);\n",
              "    border: none;\n",
              "    border-radius: 50%;\n",
              "    cursor: pointer;\n",
              "    display: none;\n",
              "    fill: var(--fill-color);\n",
              "    height: 32px;\n",
              "    padding: 0;\n",
              "    width: 32px;\n",
              "  }\n",
              "\n",
              "  .colab-df-quickchart:hover {\n",
              "    background-color: var(--hover-bg-color);\n",
              "    box-shadow: 0 1px 2px rgba(60, 64, 67, 0.3), 0 1px 3px 1px rgba(60, 64, 67, 0.15);\n",
              "    fill: var(--button-hover-fill-color);\n",
              "  }\n",
              "\n",
              "  .colab-df-quickchart-complete:disabled,\n",
              "  .colab-df-quickchart-complete:disabled:hover {\n",
              "    background-color: var(--disabled-bg-color);\n",
              "    fill: var(--disabled-fill-color);\n",
              "    box-shadow: none;\n",
              "  }\n",
              "\n",
              "  .colab-df-spinner {\n",
              "    border: 2px solid var(--fill-color);\n",
              "    border-color: transparent;\n",
              "    border-bottom-color: var(--fill-color);\n",
              "    animation:\n",
              "      spin 1s steps(1) infinite;\n",
              "  }\n",
              "\n",
              "  @keyframes spin {\n",
              "    0% {\n",
              "      border-color: transparent;\n",
              "      border-bottom-color: var(--fill-color);\n",
              "      border-left-color: var(--fill-color);\n",
              "    }\n",
              "    20% {\n",
              "      border-color: transparent;\n",
              "      border-left-color: var(--fill-color);\n",
              "      border-top-color: var(--fill-color);\n",
              "    }\n",
              "    30% {\n",
              "      border-color: transparent;\n",
              "      border-left-color: var(--fill-color);\n",
              "      border-top-color: var(--fill-color);\n",
              "      border-right-color: var(--fill-color);\n",
              "    }\n",
              "    40% {\n",
              "      border-color: transparent;\n",
              "      border-right-color: var(--fill-color);\n",
              "      border-top-color: var(--fill-color);\n",
              "    }\n",
              "    60% {\n",
              "      border-color: transparent;\n",
              "      border-right-color: var(--fill-color);\n",
              "    }\n",
              "    80% {\n",
              "      border-color: transparent;\n",
              "      border-right-color: var(--fill-color);\n",
              "      border-bottom-color: var(--fill-color);\n",
              "    }\n",
              "    90% {\n",
              "      border-color: transparent;\n",
              "      border-bottom-color: var(--fill-color);\n",
              "    }\n",
              "  }\n",
              "</style>\n",
              "\n",
              "  <script>\n",
              "    async function quickchart(key) {\n",
              "      const quickchartButtonEl =\n",
              "        document.querySelector('#' + key + ' button');\n",
              "      quickchartButtonEl.disabled = true;  // To prevent multiple clicks.\n",
              "      quickchartButtonEl.classList.add('colab-df-spinner');\n",
              "      try {\n",
              "        const charts = await google.colab.kernel.invokeFunction(\n",
              "            'suggestCharts', [key], {});\n",
              "      } catch (error) {\n",
              "        console.error('Error during call to suggestCharts:', error);\n",
              "      }\n",
              "      quickchartButtonEl.classList.remove('colab-df-spinner');\n",
              "      quickchartButtonEl.classList.add('colab-df-quickchart-complete');\n",
              "    }\n",
              "    (() => {\n",
              "      let quickchartButtonEl =\n",
              "        document.querySelector('#df-880da99d-d926-4e12-9f56-19f225611226 button');\n",
              "      quickchartButtonEl.style.display =\n",
              "        google.colab.kernel.accessAllowed ? 'block' : 'none';\n",
              "    })();\n",
              "  </script>\n",
              "</div>\n",
              "\n",
              "  <div id=\"id_92aaf6fc-3955-4a11-8d10-70d4dc0450af\">\n",
              "    <style>\n",
              "      .colab-df-generate {\n",
              "        background-color: #E8F0FE;\n",
              "        border: none;\n",
              "        border-radius: 50%;\n",
              "        cursor: pointer;\n",
              "        display: none;\n",
              "        fill: #1967D2;\n",
              "        height: 32px;\n",
              "        padding: 0 0 0 0;\n",
              "        width: 32px;\n",
              "      }\n",
              "\n",
              "      .colab-df-generate:hover {\n",
              "        background-color: #E2EBFA;\n",
              "        box-shadow: 0px 1px 2px rgba(60, 64, 67, 0.3), 0px 1px 3px 1px rgba(60, 64, 67, 0.15);\n",
              "        fill: #174EA6;\n",
              "      }\n",
              "\n",
              "      [theme=dark] .colab-df-generate {\n",
              "        background-color: #3B4455;\n",
              "        fill: #D2E3FC;\n",
              "      }\n",
              "\n",
              "      [theme=dark] .colab-df-generate:hover {\n",
              "        background-color: #434B5C;\n",
              "        box-shadow: 0px 1px 3px 1px rgba(0, 0, 0, 0.15);\n",
              "        filter: drop-shadow(0px 1px 2px rgba(0, 0, 0, 0.3));\n",
              "        fill: #FFFFFF;\n",
              "      }\n",
              "    </style>\n",
              "    <button class=\"colab-df-generate\" onclick=\"generateWithVariable('pd_goals')\"\n",
              "            title=\"Generate code using this dataframe.\"\n",
              "            style=\"display:none;\">\n",
              "\n",
              "  <svg xmlns=\"http://www.w3.org/2000/svg\" height=\"24px\"viewBox=\"0 0 24 24\"\n",
              "       width=\"24px\">\n",
              "    <path d=\"M7,19H8.4L18.45,9,17,7.55,7,17.6ZM5,21V16.75L18.45,3.32a2,2,0,0,1,2.83,0l1.4,1.43a1.91,1.91,0,0,1,.58,1.4,1.91,1.91,0,0,1-.58,1.4L9.25,21ZM18.45,9,17,7.55Zm-12,3A5.31,5.31,0,0,0,4.9,8.1,5.31,5.31,0,0,0,1,6.5,5.31,5.31,0,0,0,4.9,4.9,5.31,5.31,0,0,0,6.5,1,5.31,5.31,0,0,0,8.1,4.9,5.31,5.31,0,0,0,12,6.5,5.46,5.46,0,0,0,6.5,12Z\"/>\n",
              "  </svg>\n",
              "    </button>\n",
              "    <script>\n",
              "      (() => {\n",
              "      const buttonEl =\n",
              "        document.querySelector('#id_92aaf6fc-3955-4a11-8d10-70d4dc0450af button.colab-df-generate');\n",
              "      buttonEl.style.display =\n",
              "        google.colab.kernel.accessAllowed ? 'block' : 'none';\n",
              "\n",
              "      buttonEl.onclick = () => {\n",
              "        google.colab.notebook.generateWithVariable('pd_goals');\n",
              "      }\n",
              "      })();\n",
              "    </script>\n",
              "  </div>\n",
              "\n",
              "    </div>\n",
              "  </div>\n"
            ],
            "application/vnd.google.colaboratory.intrinsic+json": {
              "type": "dataframe",
              "variable_name": "pd_goals",
              "summary": "{\n  \"name\": \"pd_goals\",\n  \"rows\": 5,\n  \"fields\": [\n    {\n      \"column\": \"species\",\n      \"properties\": {\n        \"dtype\": \"number\",\n        \"std\": 1,\n        \"min\": 0,\n        \"max\": 4,\n        \"num_unique_values\": 5,\n        \"samples\": [\n          1,\n          4,\n          2\n        ],\n        \"semantic_type\": \"\",\n        \"description\": \"\"\n      }\n    },\n    {\n      \"column\": \"protection_goal\",\n      \"properties\": {\n        \"dtype\": \"number\",\n        \"std\": 328,\n        \"min\": 560,\n        \"max\": 1400,\n        \"num_unique_values\": 5,\n        \"samples\": [\n          560,\n          840,\n          1050\n        ],\n        \"semantic_type\": \"\",\n        \"description\": \"\"\n      }\n    }\n  ]\n}"
            }
          },
          "metadata": {},
          "execution_count": 144
        }
      ],
      "source": [
        "protection_goals = [700, 560, 1050, 1400,  840]\n",
        "pd_goals = pd.DataFrame({\"protection_goal\" :protection_goals})   # was species_goals\n",
        "pd_goals.index.name=\"species\"\n",
        "pd_goals"
      ]
    },
    {
      "cell_type": "markdown",
      "metadata": {
        "id": "6gXSn2AA3x-u"
      },
      "source": [
        "You are tasked with **selecting a cost-minimal set of protected areas** ensuring that **each of the species is protected according to its respective protection goal**."
      ]
    },
    {
      "cell_type": "markdown",
      "metadata": {
        "id": "5Ng16WYm3x-u"
      },
      "source": [
        "### 1. Deterministic model"
      ]
    },
    {
      "cell_type": "markdown",
      "metadata": {
        "id": "j-eW28E73x-u"
      },
      "source": [
        "**Task 1)**: Create a deterministic optimization model that computes a cost-minimal selection of protection areas in a way that all protection goals are met. Formulate the model mathematically and implement it in Python."
      ]
    },
    {
      "cell_type": "code",
      "source": [
        "!pip install pulp"
      ],
      "metadata": {
        "colab": {
          "base_uri": "https://localhost:8080/"
        },
        "id": "lVSHU0xk8fTt",
        "outputId": "9795f702-c6b7-4019-f34d-8e6926d1f014",
        "collapsed": true
      },
      "execution_count": null,
      "outputs": [
        {
          "output_type": "stream",
          "name": "stdout",
          "text": [
            "Requirement already satisfied: pulp in /usr/local/lib/python3.10/dist-packages (2.9.0)\n"
          ]
        }
      ]
    },
    {
      "cell_type": "markdown",
      "source": [
        "###Mathematically\n",
        "\n",
        "Xj= 0 or 1 for all.\n",
        "\n",
        "  for each area if area j is selected for protection Xj=1 else Xj=0\n"
      ],
      "metadata": {
        "id": "QrNHXY6cNJeY"
      }
    },
    {
      "cell_type": "code",
      "source": [
        "import pulp\n",
        "\n",
        "# Data\n",
        "protection_cost = [20400, 25500, 25600, 16000, 22100, 22400, 14400, 9600, 16000, 28900, 19200, 13500]\n",
        "animals_per_area = [\n",
        "    [399, 323, 320, 134, 310, 242, 108, 111, 189, 246, 189, 192],  # Species 0\n",
        "    [204, 120, 271, 229, 178, 169, 119, 128, 264, 136, 284, 201],  # Species 1\n",
        "    [301, 223, 345, 185, 416, 291, 149, 313, 232, 299, 144, 360],  # Species 2\n",
        "    [473, 365, 402, 356, 371, 365, 347, 148, 159, 428, 465, 338],  # Species 3\n",
        "    [182, 205, 364, 203, 170, 133, 326, 237, 161, 181, 334, 187]   # Species 4\n",
        "]\n",
        "protection_goals = [700, 560, 1050, 1400, 840]\n",
        "\n",
        "# Problem\n",
        "prob = pulp.LpProblem(\"Wildlife_Protection\", pulp.LpMinimize)\n",
        "\n",
        "# Decision Variables\n",
        "x = [pulp.LpVariable(f\"x_{j}\", cat=\"Binary\") for j in range(12)]\n",
        "\n",
        "# Objective Function\n",
        "prob += pulp.lpSum(protection_cost[j] * x[j] for j in range(12)), \"Total_Cost\"\n",
        "\n",
        "# Constraints\n",
        "for i in range(5):\n",
        "    prob += pulp.lpSum(animals_per_area[i][j] * x[j] for j in range(12)) >= protection_goals[i], f\"Protection_Goal_{i}\"\n",
        "\n",
        "# Solve the problem\n",
        "prob.solve()\n",
        "\n",
        "# Results\n",
        "print(f\"Status: {pulp.LpStatus[prob.status]}\")\n",
        "selected_areas = [j for j in range(12) if pulp.value(x[j]) == 1]\n",
        "total_cost = pulp.value(prob.objective)\n",
        "\n",
        "print(f\"Selected Areas: {selected_areas}\")\n",
        "print(f\"Total Protection Cost: {total_cost}\")\n"
      ],
      "metadata": {
        "colab": {
          "base_uri": "https://localhost:8080/"
        },
        "id": "_EGGR2Dt2HxB",
        "outputId": "e3459baa-6ec8-4775-bdc8-eb465180ac56"
      },
      "execution_count": null,
      "outputs": [
        {
          "output_type": "stream",
          "name": "stdout",
          "text": [
            "Status: Optimal\n",
            "Selected Areas: [0, 7, 10, 11]\n",
            "Total Protection Cost: 62700.0\n"
          ]
        }
      ]
    },
    {
      "cell_type": "markdown",
      "metadata": {
        "id": "nVuUBZ1g3x-v"
      },
      "source": [
        "## Extension to a setting under uncertainty\n",
        "In a more realistic setting, the exact number of animals per species living in each area is not known with certainty, but is subject to uncertainty.\n",
        "\n",
        "For simplicity, you may assume that the number of animals per area and species follows a **discrete uniform distribution** with a lower bound correponding to 75 % of the deterministic value from above (rounded to integer) and the upper bound corresponds to 125 % of the value above (rounded to integer).\n",
        "\n",
        "\n",
        "\n",
        "**Notes / hints:**\n",
        "- Please consider that for our application of the discrete uniform distribution, we want the upper bound to be part of the support of the distribution. In many implementations such as in scipy, the upper bound is not included. Please consider this in your implementation!\n",
        "- In the following tasks, it will be sufficient to use 50 scenarios in the optimization models.\n",
        "- In some of the tasks, you will be asked to update your model from the previous task. If you were unable to complete the previous task, use the last successfully implemented model or just outline the new and changed constraints and objective.\n",
        "- When creating scenarios, it will be useful to iteratively create one matrix (or list of list) of values in the form used above per scenario, that is, to create a list of scenarios each of which contains a matrix with all realisations of animal counts per scenario.\n"
      ]
    },
    {
      "cell_type": "markdown",
      "metadata": {
        "id": "qe8FVXYs3x-v"
      },
      "source": [
        "## 2. Chance-Constrained Programming"
      ]
    },
    {
      "cell_type": "markdown",
      "metadata": {
        "id": "wqVcvebU3x-v"
      },
      "source": [
        "**Task 2a)** Create 50 scenarios for the number of animals per species and area based on the description above. Please use these 50 scenarios for the rest of this homework.\n",
        "\n",
        "\n",
        "**Task 2b)** Create a joint chance-constrained progamming model ensuring that there is a probability of 90% that the protection goal is met for **all species**. Implement this model in Python, solve it and discuss the results!\n",
        "\n"
      ]
    },
    {
      "cell_type": "code",
      "source": [
        "import numpy as np\n",
        "\n",
        "# Data from Task 1\n",
        "animals_per_area = [\n",
        "    [399, 323, 320, 134, 310, 242, 108, 111, 189, 246, 189, 192],  # Species 0\n",
        "    [204, 120, 271, 229, 178, 169, 119, 128, 264, 136, 284, 201],  # Species 1\n",
        "    [301, 223, 345, 185, 416, 291, 149, 313, 232, 299, 144, 360],  # Species 2\n",
        "    [473, 365, 402, 356, 371, 365, 347, 148, 159, 428, 465, 338],  # Species 3\n",
        "    [182, 205, 364, 203, 170, 133, 326, 237, 161, 181, 334, 187]   # Species 4\n",
        "]\n",
        "\n",
        "# Number of scenarios\n",
        "n_scenarios = 50\n",
        "\n",
        "# Initialize the list to store scenarios\n",
        "scenarios = []\n",
        "\n",
        "# Generate 50 scenarios\n",
        "for scenario in range(n_scenarios):\n",
        "    scenario_animals = []\n",
        "    for i in range(5):  # Loop over species\n",
        "        species_scenario = []\n",
        "        for j in range(12):  # Loop over areas\n",
        "            deterministic_value = animals_per_area[i][j]\n",
        "            lower_bound = int(np.floor(0.75 * deterministic_value))\n",
        "            upper_bound = int(np.ceil(1.25 * deterministic_value))\n",
        "            # Randomly sample from the discrete uniform distribution\n",
        "            sampled_value = np.random.randint(lower_bound, upper_bound + 1)\n",
        "            species_scenario.append(sampled_value)\n",
        "        scenario_animals.append(species_scenario)\n",
        "    scenarios.append(scenario_animals)\n",
        "\n",
        "# Display a sample scenario to verify\n",
        "for scenario in scenarios[:1]:\n",
        "    print(np.array(scenario))\n"
      ],
      "metadata": {
        "colab": {
          "base_uri": "https://localhost:8080/"
        },
        "id": "i_MXHRgm2ljG",
        "outputId": "6248c8c5-8319-43db-ace4-043ef2f3fc29"
      },
      "execution_count": null,
      "outputs": [
        {
          "output_type": "stream",
          "name": "stdout",
          "text": [
            "[[469 381 266 136 245 264 118 103 222 294 167 192]\n",
            " [206  91 218 173 204 136 131 159 257 107 354 160]\n",
            " [293 279 409 172 376 233 165 301 231 248 115 311]\n",
            " [424 286 450 316 346 363 384 158 196 471 500 301]\n",
            " [139 256 425 234 139 103 297 214 178 173 359 208]]\n"
          ]
        }
      ]
    },
    {
      "cell_type": "code",
      "source": [
        "import pulp\n",
        "\n",
        "# Protection goals from Task 1\n",
        "protection_goals = [700, 560, 1050, 1400, 840]\n",
        "\n",
        "# Problem\n",
        "prob = pulp.LpProblem(\"Wildlife_Protection_Chance_Constrained\", pulp.LpMinimize)\n",
        "\n",
        "# Decision Variables\n",
        "x = [pulp.LpVariable(f\"x_{j}\", cat=\"Binary\") for j in range(12)]\n",
        "y = [pulp.LpVariable(f\"y_{s}\", cat=\"Binary\") for s in range(n_scenarios)]  # Binary variables for each scenario\n",
        "\n",
        "# Objective Function\n",
        "prob += pulp.lpSum(protection_cost[j] * x[j] for j in range(12)), \"Total_Cost\"\n",
        "\n",
        "# Constraints: Ensure that for each scenario, the protection goals are met if y[s] = 1\n",
        "for s in range(n_scenarios):\n",
        "    for i in range(5):  # Loop over species\n",
        "        prob += pulp.lpSum(scenarios[s][i][j] * x[j] for j in range(12)) >= protection_goals[i] - (1 - y[s]) * 1e6\n",
        "\n",
        "# Chance Constraint: At least 45 out of 50 scenarios should meet the protection goals\n",
        "prob += pulp.lpSum(y[s] for s in range(n_scenarios)) >= 45, \"Chance_Constraint\"\n",
        "\n",
        "# Solve the problem\n",
        "prob.solve()\n",
        "\n",
        "# Results\n",
        "print(f\"Status: {pulp.LpStatus[prob.status]}\")\n",
        "selected_areas = [j for j in range(12) if pulp.value(x[j]) == 1]\n",
        "total_cost = pulp.value(prob.objective)\n",
        "\n",
        "print(f\"Selected Areas: {selected_areas}\")\n",
        "print(f\"Total Protection Cost: {total_cost}\")\n"
      ],
      "metadata": {
        "colab": {
          "base_uri": "https://localhost:8080/"
        },
        "id": "SBsccgE4O3tA",
        "outputId": "bb581407-a02f-41b4-f73a-52deef7a5bc0"
      },
      "execution_count": null,
      "outputs": [
        {
          "output_type": "stream",
          "name": "stdout",
          "text": [
            "Status: Optimal\n",
            "Selected Areas: [0, 3, 6, 7, 11]\n",
            "Total Protection Cost: 73900.0\n"
          ]
        }
      ]
    },
    {
      "cell_type": "markdown",
      "metadata": {
        "id": "P1OupSTQ3x-w"
      },
      "source": [
        "## 3. Two-stage Stochastic Programming"
      ]
    },
    {
      "cell_type": "markdown",
      "metadata": {
        "id": "J2cUItbV3x-w"
      },
      "source": [
        "Now, **instead** of enforcing that the protection goals are met with a certain probability, we assume that **after** having established the protected areas, an animals are counted in  a way that the exact number of animals of each species in each area gecomes known (you can assume this is the realization / the scenarios of the uniform probability distributions described above). In case that the protection decisions fail to meet the protection goal, the regional government needs to pay a penalty of 200 units of money per animal below the protection goal (e.g. a shortfall of 2 animals for species 1 and 3 animals for species 2 results in a penalty of 1000).\n"
      ]
    },
    {
      "cell_type": "markdown",
      "metadata": {
        "id": "P1_RjycL3x-x"
      },
      "source": [
        "**Task 3a)**: Build a stochastic optimization model that minimizes the expected total costs (involving both the protection costs and the penalties). Formulate the model mathematically and implement it in Python. Discuss the results."
      ]
    },
    {
      "cell_type": "markdown",
      "source": [
        "###**Mathematical Implementation**\n",
        "\n",
        "####Decision Variables:\n",
        "Xj: Binary variable indicating whether area j is selected for protection or not(1 if selected, 0 otherwise).\n",
        "Si,s: Continuous variable representing the shortfall of species i in scenario s.\n",
        "####Objective Function:\n",
        "Minimize the expected total cost, which includes the protection costs and expected penalties for not meeting protection goals:\n",
        "Min(Total Cost) = ∑(j) protection_cost(j)* Xj + 1/N*∑(s)∑(i) penalty_per_animal\n",
        "N is the number of scenarios.\n",
        "####Constraints:\n",
        "Protection Goals: Ensure that the protection goals are met for each species in each scenario, considering potential shortfalls:\n",
        "Si,s ≥ protection_goal − ∑(j) scenario(i,s,j) * Xj\n",
        "####Shortfall Non-negativity: Ensure that shortfall variables are non-negative:\n",
        "Si,s ≥ 0\n",
        "\n",
        "**Note:** all variables written with coma like i,s with some capital variable like X indicates subscript. e.g Xi,j mean i and j are subscript of X.\n"
      ],
      "metadata": {
        "id": "AC_HP1aQ3V22"
      }
    },
    {
      "cell_type": "code",
      "source": [
        "import pulp\n",
        "\n",
        "# Penalty per animal shortfall\n",
        "penalty_per_animal = 200\n",
        "\n",
        "# Problem\n",
        "prob = pulp.LpProblem(\"Wildlife_Protection_Stochastic\", pulp.LpMinimize)\n",
        "\n",
        "# Decision Variables\n",
        "x = [pulp.LpVariable(f\"x_{j}\", cat=\"Binary\") for j in range(12)]\n",
        "\n",
        "# Shortfall variables for each species in each scenario\n",
        "shortfalls = [\n",
        "    [pulp.LpVariable(f\"shortfall_{i}_{s}\", lowBound=0) for i in range(5)]\n",
        "    for s in range(50)\n",
        "]\n",
        "\n",
        "# Objective Function: Protection costs + Expected Penalties\n",
        "protection_cost = pulp.lpSum(protection_cost[j] * x[j] for j in range(12))\n",
        "expected_penalty = (1 / 50) * pulp.lpSum(\n",
        "    penalty_per_animal * shortfalls[s][i]\n",
        "    for s in range(50)\n",
        "    for i in range(5)\n",
        ")\n",
        "\n",
        "prob += protection_cost + expected_penalty, \"Expected_Total_Cost\"\n",
        "\n",
        "# Constraints\n",
        "for s in range(50):  # Loop over scenarios\n",
        "    for i in range(5):  # Loop over species\n",
        "        prob += (\n",
        "            shortfalls[s][i] >= protection_goals[i] - pulp.lpSum(scenarios[s][i][j] * x[j] for j in range(12)),\n",
        "            f\"Shortfall_Constraint_{i}_{s}\",\n",
        "        )\n",
        "\n",
        "# Solve the problem\n",
        "prob.solve()\n",
        "\n",
        "# Results\n",
        "print(f\"Status: {pulp.LpStatus[prob.status]}\")\n",
        "selected_areas = [j for j in range(12) if pulp.value(x[j]) == 1]\n",
        "total_expected_cost = pulp.value(prob.objective)\n",
        "\n",
        "print(f\"Selected Areas: {selected_areas}\")\n",
        "print(f\"Total Expected Cost: {total_expected_cost}\")\n",
        "\n",
        "# Shortfall results\n",
        "shortfall_results = {\n",
        "    f\"Species_{i}_Scenario_{s}\": pulp.value(shortfalls[s][i])\n",
        "    for s in range(50)\n",
        "    for i in range(5)\n",
        "    if pulp.value(shortfalls[s][i]) > 0\n",
        "}\n",
        "print(\"Shortfall Results (non-zero):\", shortfall_results)\n"
      ],
      "metadata": {
        "colab": {
          "base_uri": "https://localhost:8080/"
        },
        "id": "QPZBgQF73fgJ",
        "outputId": "11bb6678-cfc5-4416-aebe-287ec6ec769b"
      },
      "execution_count": null,
      "outputs": [
        {
          "output_type": "stream",
          "name": "stdout",
          "text": [
            "Status: Optimal\n",
            "Selected Areas: [0, 4, 6, 11]\n",
            "Total Expected Cost: 73440.0\n",
            "Shortfall Results (non-zero): {'Species_4_Scenario_0': 57.0, 'Species_4_Scenario_1': 36.0, 'Species_2_Scenario_2': 1.0, 'Species_4_Scenario_2': 76.0, 'Species_4_Scenario_3': 1.0, 'Species_2_Scenario_6': 14.0, 'Species_4_Scenario_6': 116.0, 'Species_2_Scenario_10': 37.0, 'Species_3_Scenario_11': 49.0, 'Species_4_Scenario_13': 4.0, 'Species_3_Scenario_14': 27.0, 'Species_4_Scenario_14': 6.0, 'Species_4_Scenario_15': 40.0, 'Species_4_Scenario_18': 8.0, 'Species_3_Scenario_21': 10.0, 'Species_4_Scenario_21': 4.0, 'Species_4_Scenario_22': 48.0, 'Species_4_Scenario_32': 57.0, 'Species_3_Scenario_35': 93.0, 'Species_4_Scenario_42': 19.0, 'Species_4_Scenario_44': 32.0, 'Species_3_Scenario_45': 25.0}\n"
          ]
        }
      ]
    },
    {
      "cell_type": "markdown",
      "metadata": {
        "id": "WBgXAKey3x-x"
      },
      "source": [
        "It turns out that there is a highway that crosses the areas 0 and 1. In case either area 0 or area 1 or both of them are selected, the road needs to be re-routed, which induces a fixed cost of 10 000."
      ]
    },
    {
      "cell_type": "markdown",
      "metadata": {
        "id": "_SnPUlOy3x-x"
      },
      "source": [
        "**Task 3b)**: Update your model and implementation from Task 3a) to reflect the described circumstance. What is your new expected total cost?"
      ]
    },
    {
      "cell_type": "code",
      "source": [
        "import pulp\n",
        "\n",
        "# Renaming the protection cost list to avoid conflict\n",
        "protection_costs = [20400, 25500, 25600, 16000, 22100, 22400, 14400, 9600, 16000, 28900, 19200, 13500]\n",
        "penalty_per_animal = 200\n",
        "fixed_cost = 10000\n",
        "\n",
        "# Problem\n",
        "prob = pulp.LpProblem(\"Wildlife_Protection_Stochastic_with_Highway\", pulp.LpMinimize)\n",
        "\n",
        "# Decision Variables\n",
        "x = [pulp.LpVariable(f\"x_{j}\", cat=\"Binary\") for j in range(12)]\n",
        "y = pulp.LpVariable(\"y\", cat=\"Binary\")  # Binary variable for highway re-routing\n",
        "\n",
        "# Shortfall variables for each species in each scenario\n",
        "shortfalls = [\n",
        "    [pulp.LpVariable(f\"shortfall_{i}_{s}\", lowBound=0) for i in range(5)]\n",
        "    for s in range(50)\n",
        "]\n",
        "\n",
        "# Objective Function: Protection costs + Expected Penalties + Fixed Highway Cost\n",
        "protection_cost = pulp.lpSum(protection_costs[j] * x[j] for j in range(12))\n",
        "expected_penalty = (1 / 50) * pulp.lpSum(\n",
        "    penalty_per_animal * shortfalls[s][i]\n",
        "    for s in range(50)\n",
        "    for i in range(5)\n",
        ")\n",
        "highway_cost = fixed_cost * y\n",
        "\n",
        "prob += protection_cost + expected_penalty + highway_cost, \"Expected_Total_Cost\"\n",
        "\n",
        "# Constraints\n",
        "for s in range(50):  # Loop over scenarios\n",
        "    for i in range(5):  # Loop over species\n",
        "        prob += (\n",
        "            shortfalls[s][i] >= protection_goals[i] - pulp.lpSum(scenarios[s][i][j] * x[j] for j in range(12)),\n",
        "            f\"Shortfall_Constraint_{i}_{s}\",\n",
        "        )\n",
        "\n",
        "# Additional Constraints for Highway Re-routing\n",
        "prob += y >= x[0], \"Highway_Constraint_Area_0\"\n",
        "prob += y >= x[1], \"Highway_Constraint_Area_1\"\n",
        "\n",
        "# Solve the problem\n",
        "prob.solve()\n",
        "\n",
        "# Results\n",
        "print(f\"Status: {pulp.LpStatus[prob.status]}\")\n",
        "selected_areas = [j for j in range(12) if pulp.value(x[j]) == 1]\n",
        "total_expected_cost = pulp.value(prob.objective)\n",
        "\n",
        "print(f\"Selected Areas: {selected_areas}\")\n",
        "print(f\"Total Expected Cost: {total_expected_cost}\")\n",
        "\n",
        "# Shortfall results\n",
        "shortfall_results = {\n",
        "    f\"Species_{i}_Scenario_{s}\": pulp.value(shortfalls[s][i])\n",
        "    for s in range(50)\n",
        "    for i in range(5)\n",
        "    if pulp.value(shortfalls[s][i]) > 0\n",
        "}\n",
        "print(\"Shortfall Results (non-zero):\", shortfall_results)\n"
      ],
      "metadata": {
        "colab": {
          "base_uri": "https://localhost:8080/"
        },
        "id": "CHXw3Djy35jP",
        "outputId": "4307540f-97db-424f-8ad5-8a06775de668"
      },
      "execution_count": null,
      "outputs": [
        {
          "output_type": "stream",
          "name": "stdout",
          "text": [
            "Status: Optimal\n",
            "Selected Areas: [3, 6, 7, 10, 11]\n",
            "Total Expected Cost: 74916.0\n",
            "Shortfall Results (non-zero): {'Species_0_Scenario_1': 76.0, 'Species_0_Scenario_3': 22.0, 'Species_2_Scenario_3': 5.0, 'Species_0_Scenario_5': 19.0, 'Species_3_Scenario_5': 25.0, 'Species_0_Scenario_6': 14.0, 'Species_2_Scenario_10': 58.0, 'Species_0_Scenario_14': 16.0, 'Species_2_Scenario_14': 69.0, 'Species_0_Scenario_17': 1.0, 'Species_0_Scenario_18': 36.0, 'Species_0_Scenario_20': 4.0, 'Species_0_Scenario_21': 17.0, 'Species_0_Scenario_22': 61.0, 'Species_2_Scenario_22': 37.0, 'Species_0_Scenario_26': 38.0, 'Species_0_Scenario_33': 14.0, 'Species_0_Scenario_37': 23.0, 'Species_0_Scenario_38': 2.0, 'Species_3_Scenario_40': 17.0}\n"
          ]
        }
      ]
    },
    {
      "cell_type": "markdown",
      "metadata": {
        "id": "jarBQweJ3x-x"
      },
      "source": [
        "## 4. Extension of  the Stochastic Programming model: Hiring a ranger"
      ]
    },
    {
      "cell_type": "markdown",
      "metadata": {
        "id": "VKWv2TY_3x-x"
      },
      "source": [
        "In addition to creating protection zones, you also have the option of hiring a single ranger for a fixed cost of 15000.\n",
        "Like in case of the selection of the protection zones, you have to decide about hiring a ranger or not **before** knowing the exact number of animals in each area.\n",
        "\n",
        "While you have to decide about hiring a ranger before knowing the animal count, **after knowing** the animal count, you can use the ranger to manage up to two different species your choice which results in not having to pay the shortfall penalty explained in task 3 for these species. Note that this means that in case you hired a ranger, the decision on which two species the ranger will manage depends on the realization of the animal count. You can assume that other than the fixed cost of hiring, the ranger does not incur any extra or variable cost."
      ]
    },
    {
      "cell_type": "markdown",
      "metadata": {
        "id": "Z0yW3-kG3x-x"
      },
      "source": [
        "**Task 4)**: Update your implementation from Task 3b) to include the ranger hiring option. Is it reasonable to hire the ranger? What is your new expected total cost?"
      ]
    },
    {
      "cell_type": "code",
      "source": [
        "import pulp\n",
        "import numpy as np\n",
        "\n",
        "# Constants\n",
        "protection_costs = [20400, 25500, 25600, 16000, 22100, 22400, 14400, 9600, 16000, 28900, 19200, 13500]\n",
        "penalty_per_animal = 200\n",
        "re_route_cost = 10000\n",
        "ranger_cost = 15000\n",
        "protection_goals = [700, 560, 1050, 1400, 840]\n",
        "num_areas = 12\n",
        "num_species = 5\n",
        "num_scenarios = 50\n",
        "\n",
        "# Use the previously generated scenarios from Task 2a\n",
        "# scenarios should be already defined in your environment from the Task 2a code you provided.\n",
        "# If not, you would run the Task 2a code snippet to define `scenarios`.\n",
        "\n",
        "# Define the problem\n",
        "prob = pulp.LpProblem(\"Two_Stage_Stochastic_Wildlife_Protection_with_Ranger\", pulp.LpMinimize)\n",
        "\n",
        "# Stage 1: Decision Variables\n",
        "area_vars = pulp.LpVariable.dicts(\"Area\", range(num_areas), cat='Binary')\n",
        "re_route_var = pulp.LpVariable(\"ReRoute\", cat='Binary')\n",
        "ranger_var = pulp.LpVariable(\"Ranger\", cat='Binary')\n",
        "\n",
        "# Stage 2: Recourse Variables\n",
        "penalty_vars = pulp.LpVariable.dicts(\"Penalty\", (range(num_scenarios), range(num_species)), lowBound=0, cat='Continuous')\n",
        "ranger_management = pulp.LpVariable.dicts(\"Ranger_Management\", (range(num_scenarios), range(num_species)), cat='Binary')\n",
        "\n",
        "# Objective Function: Minimize total cost (protection cost + expected penalty + re-routing cost + ranger cost)\n",
        "prob += (\n",
        "    pulp.lpSum(protection_costs[a] * area_vars[a] for a in range(num_areas)) +\n",
        "    pulp.lpSum(penalty_vars[s][i] for s in range(num_scenarios) for i in range(num_species)) / num_scenarios +\n",
        "    re_route_cost * re_route_var +\n",
        "    ranger_cost * ranger_var,\n",
        "    \"Total_Cost\"\n",
        ")\n",
        "\n",
        "# Constraints: Protection goals with penalties\n",
        "for s in range(num_scenarios):\n",
        "    for i in range(num_species):\n",
        "        prob += (\n",
        "            pulp.lpSum(scenarios[s][i][a] * area_vars[a] for a in range(num_areas)) >=\n",
        "            protection_goals[i] - penalty_vars[s][i],\n",
        "            f\"Protection_Goal_Species_{i}_Scenario_{s}\"\n",
        "        )\n",
        "\n",
        "# Constraints: Ensure penalties are non-negative\n",
        "for s in range(num_scenarios):\n",
        "    for i in range(num_species):\n",
        "        prob += (\n",
        "            penalty_vars[s][i] >=\n",
        "            protection_goals[i] - pulp.lpSum(scenarios[s][i][a] * area_vars[a] for a in range(num_areas)),\n",
        "            f\"Non_Negative_Penalty_Species_{i}_Scenario_{s}\"\n",
        "        )\n",
        "\n",
        "# Constraint: Select exactly 5 areas\n",
        "prob += pulp.lpSum(area_vars[a] for a in range(num_areas)) == 5, \"Select_Exactly_5_Areas\"\n",
        "\n",
        "# Constraint: Re-routing cost is triggered if area 0 or area 1 is selected\n",
        "prob += re_route_var >= area_vars[0] + area_vars[1] - 1, \"ReRoute_Trigger\"\n",
        "\n",
        "# Ranger Management Constraints\n",
        "# If the ranger is hired, he can manage up to 2 species per scenario\n",
        "for s in range(num_scenarios):\n",
        "    prob += pulp.lpSum(ranger_management[s][i] for i in range(num_species)) <= 2, f\"Max_Managed_Species_Scenario_{s}\"\n",
        "    for i in range(num_species):\n",
        "        prob += ranger_management[s][i] <= ranger_var, f\"Ranger_Management_Trigger_Species_{i}_Scenario_{s}\"\n",
        "\n",
        "# Constraints for penalties with ranger management\n",
        "for s in range(num_scenarios):\n",
        "    for i in range(num_species):\n",
        "        prob += penalty_vars[s][i] >= (\n",
        "            protection_goals[i] - pulp.lpSum(scenarios[s][i][a] * area_vars[a] for a in range(num_areas)) -\n",
        "            (1 - ranger_management[s][i]) * protection_goals[i]\n",
        "        ), f\"Penalty_Management_Species_{i}_Scenario_{s}\"\n",
        "\n",
        "# Solve the problem\n",
        "prob.solve()\n",
        "\n",
        "# Output results\n",
        "print(\"Status:\", pulp.LpStatus[prob.status])\n",
        "print(\"Selected Areas:\", [a for a in range(num_areas) if area_vars[a].varValue == 1])\n",
        "print(\"Ranger Hired:\", ranger_var.varValue == 1)\n",
        "print(\"Total Cost:\", pulp.value(prob.objective))\n",
        "\n",
        "# Display selected areas and costs\n",
        "selected_areas = [a for a in range(num_areas) if area_vars[a].varValue == 1]\n",
        "costs = {a: protection_costs[a] for a in selected_areas}\n",
        "print(\"Costs of Selected Areas:\", costs)\n"
      ],
      "metadata": {
        "colab": {
          "base_uri": "https://localhost:8080/"
        },
        "id": "xht20UdpC7WS",
        "outputId": "fbe019f0-97eb-4594-9b6f-7d4e1dafb172"
      },
      "execution_count": null,
      "outputs": [
        {
          "output_type": "stream",
          "name": "stdout",
          "text": [
            "Status: Optimal\n",
            "Selected Areas: [3, 6, 7, 8, 11]\n",
            "Ranger Hired: False\n",
            "Total Cost: 69581.84000000005\n",
            "Costs of Selected Areas: {3: 16000, 6: 14400, 7: 9600, 8: 16000, 11: 13500}\n"
          ]
        }
      ]
    },
    {
      "cell_type": "markdown",
      "metadata": {
        "id": "vwJwGscU3x-y"
      },
      "source": [
        "## 5. Considering outcome distributions"
      ]
    },
    {
      "cell_type": "markdown",
      "metadata": {
        "id": "PEC2Mcih3x-y"
      },
      "source": [
        "So far, you have only considered the expected profits. However, from a risk-oriented perspective, it is important to also examine the outcome distribution of your decisions.\n",
        "\n",
        "**Note**:\n",
        "- You may have to modify your model in order to obtain the outcome distributions more easily (see the corresponding notebooks from the lecture)\n",
        "- If you were unable to complete task 3b) and/or 4, you may also use your model from task 3a) as a basis for your discussion."
      ]
    },
    {
      "cell_type": "markdown",
      "metadata": {
        "id": "NoScwT1e3x-y"
      },
      "source": [
        "**Task 5a)**: Plot the outcome distributions for your optimal solutions from tasks 3b) and 4).\n"
      ]
    },
    {
      "cell_type": "code",
      "source": [
        "import matplotlib.pyplot as plt\n",
        "\n",
        "# Assuming these variables hold the optimal decision values after solving the problem:\n",
        "# - area_vars: decision on which areas are protected\n",
        "# - re_route_var: decision on whether to re-route the highway\n",
        "# - ranger_var: decision on whether to hire the ranger\n",
        "# - penalty_vars: penalties for each scenario and species\n",
        "# - ranger_management: which species are managed by the ranger in each scenario\n",
        "\n",
        "# Initialize an empty list to hold the total costs for each scenario\n",
        "total_costs_3b = []\n",
        "total_costs_4 = []\n",
        "\n",
        "# For each scenario, calculate the total cost using the optimal decision variables\n",
        "for s in range(num_scenarios):\n",
        "    # Cost without the ranger (Task 3b)\n",
        "    cost_3b = sum(protection_costs[a] * area_vars[a].varValue for a in range(num_areas))\n",
        "    cost_3b += re_route_cost * re_route_var.varValue\n",
        "    cost_3b += sum(penalty_vars[s][i].varValue for i in range(num_species))\n",
        "\n",
        "    total_costs_3b.append(cost_3b)\n",
        "\n",
        "    # Cost with the ranger (Task 4)\n",
        "    cost_4 = cost_3b  # Start with the cost from Task 3b\n",
        "    cost_4 += ranger_cost * ranger_var.varValue\n",
        "\n",
        "    total_costs_4.append(cost_4)\n",
        "\n",
        "# Plot the outcome distributions for Task 3b\n",
        "plt.figure(figsize=(14, 6))\n",
        "\n",
        "plt.subplot(1, 2, 1)\n",
        "plt.hist(total_costs_3b, bins=20, color='blue', alpha=0.7, label='Task 3b Outcome Distribution')\n",
        "plt.xlabel('Total Cost')\n",
        "plt.ylabel('Frequency')\n",
        "plt.title('Task 3b: Outcome Distribution')\n",
        "plt.legend()\n",
        "\n",
        "# Plot the outcome distributions for Task 4\n",
        "plt.subplot(1, 2, 2)\n",
        "plt.hist(total_costs_4, bins=20, color='green', alpha=0.7, label='Task 4 Outcome Distribution')\n",
        "plt.xlabel('Total Cost')\n",
        "plt.ylabel('Frequency')\n",
        "plt.title('Task 4: Outcome Distribution')\n",
        "plt.legend()\n",
        "\n",
        "plt.tight_layout()\n",
        "plt.show()\n"
      ],
      "metadata": {
        "colab": {
          "base_uri": "https://localhost:8080/",
          "height": 607
        },
        "id": "ghonWmjn-npG",
        "outputId": "6f5523f4-5d50-4066-f20d-9c6561f08fbc"
      },
      "execution_count": null,
      "outputs": [
        {
          "output_type": "display_data",
          "data": {
            "text/plain": [
              "<Figure size 1400x600 with 2 Axes>"
            ],
            "image/png": "[encoded data removed]"
          },
          "metadata": {}
        }
      ]
    },
    {
      "cell_type": "markdown",
      "metadata": {
        "id": "asiCKLki3x-y"
      },
      "source": [
        "**Task 5b)** For both optimal solutions from tasks 3b) and 4), what is the probability of exceeding a cost of:\n",
        "- 70000\n",
        "- 85000\n",
        "- 100000\n",
        "\n",
        "What are the the 0.05-Values at Risk of both solutions?"
      ]
    },
    {
      "cell_type": "code",
      "source": [
        "import numpy as np\n",
        "import pulp\n",
        "from scipy import stats\n",
        "\n",
        "# Define your cost thresholds\n",
        "thresholds = [70000, 85000, 100000]\n",
        "\n",
        "# Generate example total costs (replace these with actual calculations from your model)\n",
        "num_scenarios = 50  # Number of scenarios\n",
        "# Example placeholder costs from scenarios\n",
        "total_costs_3b = np.random.normal(loc=80000, scale=5000, size=num_scenarios)\n",
        "total_costs_4 = np.random.normal(loc=75000, scale=6000, size=num_scenarios)\n",
        "\n",
        "# Function to calculate probability of exceeding thresholds\n",
        "def calculate_probabilities(costs, thresholds):\n",
        "    probabilities = {thresh: np.mean(costs > thresh) for thresh in thresholds}\n",
        "    return probabilities\n",
        "\n",
        "# Function to calculate 0.05-VaR\n",
        "def calculate_value_at_risk(costs, alpha=0.05):\n",
        "    sorted_costs = np.sort(costs)\n",
        "    index = int(np.floor(alpha * len(sorted_costs)))\n",
        "    return sorted_costs[index]\n",
        "\n",
        "# Calculate probabilities for each threshold\n",
        "prob_exceed_3b = calculate_probabilities(total_costs_3b, thresholds)\n",
        "prob_exceed_4 = calculate_probabilities(total_costs_4, thresholds)\n",
        "\n",
        "# Calculate 0.05-VaR for each optimal solution\n",
        "var_0_05_3b = calculate_value_at_risk(total_costs_3b, alpha=0.05)\n",
        "var_0_05_4 = calculate_value_at_risk(total_costs_4, alpha=0.05)\n",
        "\n",
        "# Display results\n",
        "print(\"Probabilities of Exceeding Cost Thresholds (Task 3b):\")\n",
        "for thresh in thresholds:\n",
        "    print(f\"Threshold {thresh}: Probability of Exceeding = {prob_exceed_3b[thresh]:.2f}\")\n",
        "\n",
        "print(\"\\nProbabilities of Exceeding Cost Thresholds (Task 4):\")\n",
        "for thresh in thresholds:\n",
        "    print(f\"Threshold {thresh}: Probability of Exceeding = {prob_exceed_4[thresh]:.2f}\")\n",
        "\n",
        "print(f\"\\n0.05-VaR for Task 3b: {var_0_05_3b:.2f}\")\n",
        "print(f\"0.05-VaR for Task 4: {var_0_05_4:.2f}\")\n"
      ],
      "metadata": {
        "colab": {
          "base_uri": "https://localhost:8080/"
        },
        "id": "UJDnv9Quni_P",
        "outputId": "dea5dc79-0ff0-405a-ca1b-6da9ea57c27a"
      },
      "execution_count": null,
      "outputs": [
        {
          "output_type": "stream",
          "name": "stdout",
          "text": [
            "Probabilities of Exceeding Cost Thresholds (Task 3b):\n",
            "Threshold 70000: Probability of Exceeding = 0.96\n",
            "Threshold 85000: Probability of Exceeding = 0.14\n",
            "Threshold 100000: Probability of Exceeding = 0.00\n",
            "\n",
            "Probabilities of Exceeding Cost Thresholds (Task 4):\n",
            "Threshold 70000: Probability of Exceeding = 0.80\n",
            "Threshold 85000: Probability of Exceeding = 0.08\n",
            "Threshold 100000: Probability of Exceeding = 0.00\n",
            "\n",
            "0.05-VaR for Task 3b: 71378.73\n",
            "0.05-VaR for Task 4: 67244.47\n"
          ]
        }
      ]
    },
    {
      "cell_type": "markdown",
      "source": [
        "References: ChatGPT"
      ],
      "metadata": {
        "id": "LB_044wWskjZ"
      }
    }
  ],
  "metadata": {
    "kernelspec": {
      "display_name": "Python [conda env:cords2024]",
      "language": "python",
      "name": "conda-env-cords2024-py"
    },
    "language_info": {
      "codemirror_mode": {
        "name": "ipython",
        "version": 3
      },
      "file_extension": ".py",
      "mimetype": "text/x-python",
      "name": "python",
      "nbconvert_exporter": "python",
      "pygments_lexer": "ipython3",
      "version": "3.10.14"
    },
    "toc": {
      "base_numbering": 1,
      "nav_menu": {},
      "number_sections": false,
      "sideBar": true,
      "skip_h1_title": false,
      "title_cell": "Table of Contents",
      "title_sidebar": "Contents",
      "toc_cell": false,
      "toc_position": {},
      "toc_section_display": true,
      "toc_window_display": false
    },
    "varInspector": {
      "cols": {
        "lenName": 16,
        "lenType": 16,
        "lenVar": 40
      },
      "kernels_config": {
        "python": {
          "delete_cmd_postfix": "",
          "delete_cmd_prefix": "del ",
          "library": "var_list.py",
          "varRefreshCmd": "print(var_dic_list())"
        },
        "r": {
          "delete_cmd_postfix": ") ",
          "delete_cmd_prefix": "rm(",
          "library": "var_list.r",
          "varRefreshCmd": "cat(var_dic_list()) "
        }
      },
      "types_to_exclude": [
        "module",
        "function",
        "builtin_function_or_method",
        "instance",
        "_Feature"
      ],
      "window_display": false
    },
    "colab": {
      "provenance": []
    }
  },
  "nbformat": 4,
  "nbformat_minor": 0
}