{
 "cells": [
  {
   "cell_type": "markdown",
   "metadata": {},
   "source": [
    "<img src=\"img/logo_wiwi_en_.png\" width=\"30%\" align=\"left\">\n",
    "\n",
    "<img src=\"img/decision_analytics_logo.png\" width=\"17%\" align=\"right\">\n",
    "\n",
    "\n",
    "\n",
    "<br><br><br><br><br><br><br><br>\n",
    "\n",
    "\n",
    "\n",
    "# Combining OR and Data Science\n",
    "\n",
    "**Summer Term 2024**\n",
    "\n",
    "\n",
    "# Homework 2\n",
    "12.07.2024 - 15.08.2024\n",
    "\n",
    "\n",
    "<br>\n",
    "\n",
    "<br>\n",
    "<br>\n",
    "\n",
    "**J-Prof. Dr. Michael Römer, Mohsen Nafar**\n",
    "\n",
    "**Decision Analytics Group  | Bielefeld University**"
   ]
  },
  {
   "cell_type": "markdown",
   "metadata": {},
   "source": [
    "This homework is part of the course Combining OR and Data Science. Please upload your solution to the Moodle. You can either hand in a Jupyter notebook containing your code and documentation of what you did (in Markdown Cells), or hand in a Jupyter notebook with your code *and* a pdf with your documentation. Also please also upload a signed Declaration of Originality, see the form that you also find in the zip in Moodle.\n",
    "\n",
    "\n",
    "If you have any technical issues or if something is hard to understand, please send an email to [Mohsen Nafar](mailto:mohsen.nafar@uni-bielefeld.de) or [Michael Römer](mailto:michael.roemer@uni-bielefeld.de)\n",
    "\n",
    "The homework is due on August 15. If you have any issues with that date, e.g. due to exams or other projects or homeworks, please let us know via email.\n",
    "\n",
    "**Important notice: You are not allowed to work in groups.**"
   ]
  },
  {
   "cell_type": "markdown",
   "metadata": {},
   "source": [
    "## Case Study: Protecting Wildlife, Deterministic Setting"
   ]
  },
  {
   "cell_type": "markdown",
   "metadata": {},
   "source": [
    "Assume you are in charge of designing a new wildlife protection area in a region. The region is assumed to be partititioned into 12 areas among which you can pick those to be protected (the others are not protected).\n",
    "\n",
    "The areas are 0-indexed:"
   ]
  },
  {
   "cell_type": "code",
   "execution_count": 176,
   "metadata": {},
   "outputs": [
    {
     "data": {
      "text/plain": [
       "[0, 1, 2, 3, 4, 5, 6, 7, 8, 9, 10, 11]"
      ]
     },
     "execution_count": 176,
     "metadata": {},
     "output_type": "execute_result"
    }
   ],
   "source": [
    "areas = list(range(12))\n",
    "areas"
   ]
  },
  {
   "cell_type": "markdown",
   "metadata": {},
   "source": [
    "Protecting a certain area induces a certain cost; you can find the cost data in the following list:"
   ]
  },
  {
   "cell_type": "code",
   "execution_count": 177,
   "metadata": {},
   "outputs": [],
   "source": [
    "protection_cost = [20400, 25500, 25600, 16000, 22100, 22400, 14400,  9600, 16000, 28900, 19200, 13500]"
   ]
  },
  {
   "cell_type": "markdown",
   "metadata": {},
   "source": [
    "The primary goal is to protect 5 species, namely:\n",
    "- badger\n",
    "- owl\n",
    "- fox\n",
    "- deer\n",
    "- beaver\n",
    "\n",
    "For the ease of representation in Python, we consider them using numerical indexes:"
   ]
  },
  {
   "cell_type": "code",
   "execution_count": 179,
   "metadata": {},
   "outputs": [
    {
     "data": {
      "text/plain": [
       "[0, 1, 2, 3, 4]"
      ]
     },
     "execution_count": 179,
     "metadata": {},
     "output_type": "execute_result"
    }
   ],
   "source": [
    "species = list(range(5))\n",
    "species"
   ]
  },
  {
   "cell_type": "markdown",
   "metadata": {},
   "source": [
    "**For each of these species**, for now, we assume that the **number of animals living in each area** is known. These numbers can be found in the following list of lists:\n",
    "\n",
    "\n"
   ]
  },
  {
   "cell_type": "code",
   "execution_count": 181,
   "metadata": {},
   "outputs": [],
   "source": [
    "animals_per_area = [[399, 323, 320, 134, 310, 242, 108, 111, 189, 246, 189, 192], [204, 120, 271, 229, 178, 169, 119, 128, 264, 136, 284, 201], [301, 223, 345, 185, 416, 291, 149, 313, 232, 299, 144, 360], [473, 365, 402, 356, 371, 365, 347, 148, 159, 428, 465, 338], [182, 205, 364, 203, 170, 133, 326, 237, 161, 181, 334, 187]]\n"
   ]
  },
  {
   "cell_type": "markdown",
   "metadata": {},
   "source": [
    "Which will will just display as a nicer table using a data frame:"
   ]
  },
  {
   "cell_type": "code",
   "execution_count": 166,
   "metadata": {},
   "outputs": [
    {
     "data": {
      "text/html": [
       "<div>\n",
       "<style scoped>\n",
       "    .dataframe tbody tr th:only-of-type {\n",
       "        vertical-align: middle;\n",
       "    }\n",
       "\n",
       "    .dataframe tbody tr th {\n",
       "        vertical-align: top;\n",
       "    }\n",
       "\n",
       "    .dataframe thead th {\n",
       "        text-align: right;\n",
       "    }\n",
       "</style>\n",
       "<table border=\"1\" class=\"dataframe\">\n",
       "  <thead>\n",
       "    <tr style=\"text-align: right;\">\n",
       "      <th></th>\n",
       "      <th>0</th>\n",
       "      <th>1</th>\n",
       "      <th>2</th>\n",
       "      <th>3</th>\n",
       "      <th>4</th>\n",
       "      <th>5</th>\n",
       "      <th>6</th>\n",
       "      <th>7</th>\n",
       "      <th>8</th>\n",
       "      <th>9</th>\n",
       "      <th>10</th>\n",
       "      <th>11</th>\n",
       "    </tr>\n",
       "    <tr>\n",
       "      <th>species</th>\n",
       "      <th></th>\n",
       "      <th></th>\n",
       "      <th></th>\n",
       "      <th></th>\n",
       "      <th></th>\n",
       "      <th></th>\n",
       "      <th></th>\n",
       "      <th></th>\n",
       "      <th></th>\n",
       "      <th></th>\n",
       "      <th></th>\n",
       "      <th></th>\n",
       "    </tr>\n",
       "  </thead>\n",
       "  <tbody>\n",
       "    <tr>\n",
       "      <th>0</th>\n",
       "      <td>284</td>\n",
       "      <td>234</td>\n",
       "      <td>148</td>\n",
       "      <td>160</td>\n",
       "      <td>310</td>\n",
       "      <td>173</td>\n",
       "      <td>135</td>\n",
       "      <td>252</td>\n",
       "      <td>146</td>\n",
       "      <td>136</td>\n",
       "      <td>174</td>\n",
       "      <td>264</td>\n",
       "    </tr>\n",
       "    <tr>\n",
       "      <th>1</th>\n",
       "      <td>370</td>\n",
       "      <td>330</td>\n",
       "      <td>247</td>\n",
       "      <td>201</td>\n",
       "      <td>264</td>\n",
       "      <td>173</td>\n",
       "      <td>171</td>\n",
       "      <td>175</td>\n",
       "      <td>176</td>\n",
       "      <td>355</td>\n",
       "      <td>216</td>\n",
       "      <td>157</td>\n",
       "    </tr>\n",
       "    <tr>\n",
       "      <th>2</th>\n",
       "      <td>368</td>\n",
       "      <td>344</td>\n",
       "      <td>326</td>\n",
       "      <td>281</td>\n",
       "      <td>211</td>\n",
       "      <td>228</td>\n",
       "      <td>238</td>\n",
       "      <td>269</td>\n",
       "      <td>294</td>\n",
       "      <td>348</td>\n",
       "      <td>340</td>\n",
       "      <td>160</td>\n",
       "    </tr>\n",
       "    <tr>\n",
       "      <th>3</th>\n",
       "      <td>495</td>\n",
       "      <td>317</td>\n",
       "      <td>285</td>\n",
       "      <td>387</td>\n",
       "      <td>229</td>\n",
       "      <td>461</td>\n",
       "      <td>177</td>\n",
       "      <td>136</td>\n",
       "      <td>421</td>\n",
       "      <td>449</td>\n",
       "      <td>170</td>\n",
       "      <td>398</td>\n",
       "    </tr>\n",
       "    <tr>\n",
       "      <th>4</th>\n",
       "      <td>221</td>\n",
       "      <td>366</td>\n",
       "      <td>239</td>\n",
       "      <td>189</td>\n",
       "      <td>154</td>\n",
       "      <td>261</td>\n",
       "      <td>150</td>\n",
       "      <td>245</td>\n",
       "      <td>204</td>\n",
       "      <td>367</td>\n",
       "      <td>121</td>\n",
       "      <td>202</td>\n",
       "    </tr>\n",
       "  </tbody>\n",
       "</table>\n",
       "</div>"
      ],
      "text/plain": [
       "          0    1    2    3    4    5    6    7    8    9    10   11\n",
       "species                                                            \n",
       "0        284  234  148  160  310  173  135  252  146  136  174  264\n",
       "1        370  330  247  201  264  173  171  175  176  355  216  157\n",
       "2        368  344  326  281  211  228  238  269  294  348  340  160\n",
       "3        495  317  285  387  229  461  177  136  421  449  170  398\n",
       "4        221  366  239  189  154  261  150  245  204  367  121  202"
      ]
     },
     "execution_count": 166,
     "metadata": {},
     "output_type": "execute_result"
    }
   ],
   "source": [
    "pd_animals_area = pd.DataFrame(animals_per_area)\n",
    "pd_animals_area.index.name=\"species\"\n",
    "pd_animals_area"
   ]
  },
  {
   "cell_type": "markdown",
   "metadata": {},
   "source": [
    "\n",
    "For each species, there is a  **protection goal**. The protected areas have to be selected in a way that for each species, the total number of animals from that species living in protected areas is at least as high as the protection goal. The protection goal for each species are given as follows:\n"
   ]
  },
  {
   "cell_type": "code",
   "execution_count": 158,
   "metadata": {},
   "outputs": [
    {
     "data": {
      "text/html": [
       "<div>\n",
       "<style scoped>\n",
       "    .dataframe tbody tr th:only-of-type {\n",
       "        vertical-align: middle;\n",
       "    }\n",
       "\n",
       "    .dataframe tbody tr th {\n",
       "        vertical-align: top;\n",
       "    }\n",
       "\n",
       "    .dataframe thead th {\n",
       "        text-align: right;\n",
       "    }\n",
       "</style>\n",
       "<table border=\"1\" class=\"dataframe\">\n",
       "  <thead>\n",
       "    <tr style=\"text-align: right;\">\n",
       "      <th></th>\n",
       "      <th>protection_goal</th>\n",
       "    </tr>\n",
       "    <tr>\n",
       "      <th>species</th>\n",
       "      <th></th>\n",
       "    </tr>\n",
       "  </thead>\n",
       "  <tbody>\n",
       "    <tr>\n",
       "      <th>0</th>\n",
       "      <td>700</td>\n",
       "    </tr>\n",
       "    <tr>\n",
       "      <th>1</th>\n",
       "      <td>560</td>\n",
       "    </tr>\n",
       "    <tr>\n",
       "      <th>2</th>\n",
       "      <td>1050</td>\n",
       "    </tr>\n",
       "    <tr>\n",
       "      <th>3</th>\n",
       "      <td>1400</td>\n",
       "    </tr>\n",
       "    <tr>\n",
       "      <th>4</th>\n",
       "      <td>840</td>\n",
       "    </tr>\n",
       "  </tbody>\n",
       "</table>\n",
       "</div>"
      ],
      "text/plain": [
       "         protection_goal\n",
       "species                 \n",
       "0                    700\n",
       "1                    560\n",
       "2                   1050\n",
       "3                   1400\n",
       "4                    840"
      ]
     },
     "execution_count": 158,
     "metadata": {},
     "output_type": "execute_result"
    }
   ],
   "source": [
    "protection_goals = [700, 560, 1050, 1400,  840]\n",
    "pd_goals = pd.DataFrame({\"protection_goal\" :species_goals})\n",
    "pd_goals.index.name=\"species\"\n",
    "pd_goals"
   ]
  },
  {
   "cell_type": "markdown",
   "metadata": {},
   "source": [
    "You are tasked with **selecting a cost-minimal set of protected areas** ensuring that **each of the species is protected according to its respective protection goal**."
   ]
  },
  {
   "cell_type": "markdown",
   "metadata": {},
   "source": [
    "### 1. Deterministic model"
   ]
  },
  {
   "cell_type": "markdown",
   "metadata": {},
   "source": [
    "**Task 1)**: Create a deterministic optimization model that computes a cost-minimal selection of protection areas in a way that all protection goals are met. Formulate the model mathematically and implement it in Python."
   ]
  },
  {
   "cell_type": "code",
   "execution_count": null,
   "metadata": {},
   "outputs": [],
   "source": []
  },
  {
   "cell_type": "markdown",
   "metadata": {},
   "source": [
    "## Extension to a setting under uncertainty\n",
    "In a more realistic setting, the exact number of animals per species living in each area is not known with certainty, but is subject to uncertainty. \n",
    "\n",
    "For simplicity, you may assume that the number of animals per area and species follows a **discrete uniform distribution** with a lower bound correponding to 75 % of the deterministic value from above (rounded to integer) and the upper bound corresponds to 125 % of the value above (rounded to integer). \n",
    "\n",
    "\n",
    "\n",
    "**Notes / hints:** \n",
    "- Please consider that for our application of the discrete uniform distribution, we want the upper bound to be part of the support of the distribution. In many implementations such as in scipy, the upper bound is not included. Please consider this in your implementation!\n",
    "- In the following tasks, it will be sufficient to use 50 scenarios in the optimization models. \n",
    "- In some of the tasks, you will be asked to update your model from the previous task. If you were unable to complete the previous task, use the last successfully implemented model or just outline the new and changed constraints and objective.\n",
    "- When creating scenarios, it will be useful to iteratively create one matrix (or list of list) of values in the form used above per scenario, that is, to create a list of scenarios each of which contains a matrix with all realisations of animal counts per scenario.\n"
   ]
  },
  {
   "cell_type": "markdown",
   "metadata": {},
   "source": [
    "## 2. Chance-Constrained Programming"
   ]
  },
  {
   "cell_type": "markdown",
   "metadata": {},
   "source": [
    "**Task 2a)** Create 50 scenarios for the number of animals per species and area based on the description above. Please use these 50 scenarios for the rest of this homework.\n",
    "\n",
    "\n",
    "**Task 2b)** Create a joint chance-constrained progamming model ensuring that there is a probability of 90% that the protection goal is met for **all species**. Implement this model in Python, solve it and discuss the results!\n",
    "\n"
   ]
  },
  {
   "cell_type": "code",
   "execution_count": null,
   "metadata": {},
   "outputs": [],
   "source": []
  },
  {
   "cell_type": "markdown",
   "metadata": {},
   "source": [
    "## 3. Two-stage Stochastic Programming"
   ]
  },
  {
   "cell_type": "markdown",
   "metadata": {},
   "source": [
    "Now, **instead** of enforcing that the protection goals are met with a certain probability, we assume that **after** having established the protected areas, an animals are counted in  a way that the exact number of animals of each species in each area gecomes known (you can assume this is the realization / the scenarios of the uniform probability distributions described above). In case that the protection decisions fail to meet the protection goal, the regional government needs to pay a penalty of 200 units of money per animal below the protection goal (e.g. a shortfall of 2 animals for species 1 and 3 animals for species 2 results in a penalty of 1000).\n"
   ]
  },
  {
   "cell_type": "markdown",
   "metadata": {},
   "source": [
    "**Task 3a)**: Build a stochastic optimization model that minimizes the expected total costs (involving both the protection costs and the penalties). Formulate the model mathematically and implement it in Python. Discuss the results."
   ]
  },
  {
   "cell_type": "code",
   "execution_count": null,
   "metadata": {},
   "outputs": [],
   "source": []
  },
  {
   "cell_type": "markdown",
   "metadata": {},
   "source": [
    "It turns out that there is a highway that crosses the areas 0 and 1. In case either area 0 or area 1 or both of them are selected, the road needs to be re-routed, which induces a fixed cost of 10 000."
   ]
  },
  {
   "cell_type": "markdown",
   "metadata": {},
   "source": [
    "**Task 3b)**: Update your model and implementation from Task 3a) to reflect the described circumstance. What is your new expected total cost? "
   ]
  },
  {
   "cell_type": "code",
   "execution_count": null,
   "metadata": {},
   "outputs": [],
   "source": []
  },
  {
   "cell_type": "markdown",
   "metadata": {},
   "source": [
    "## 4. Extension of  the Stochastic Programming model: Hiring a ranger"
   ]
  },
  {
   "cell_type": "markdown",
   "metadata": {},
   "source": [
    "In addition to creating protection zones, you also have the option of hiring a single ranger for a fixed cost of 15000.\n",
    "Like in case of the selection of the protection zones, you have to decide about hiring a ranger or not **before** knowing the exact number of animals in each area.\n",
    "\n",
    "While you have to decide about hiring a ranger before knowing the animal count, **after knowing** the animal count, you can use the ranger to manage up to two different species your choice which results in not having to pay the shortfall penalty explained in task 3 for these species. Note that this means that in case you hired a ranger, the decision on which two species the ranger will manage depends on the realization of the animal count. You can assume that other than the fixed cost of hiring, the ranger does not incur any extra or variable cost."
   ]
  },
  {
   "cell_type": "markdown",
   "metadata": {},
   "source": [
    "**Task 4)**: Update your implementation from Task 3b) to include the ranger hiring option. Is it reasonable to hire the ranger? What is your new expected total cost? "
   ]
  },
  {
   "cell_type": "code",
   "execution_count": null,
   "metadata": {},
   "outputs": [],
   "source": []
  },
  {
   "cell_type": "markdown",
   "metadata": {},
   "source": [
    "## 5. Considering outcome distributions"
   ]
  },
  {
   "cell_type": "markdown",
   "metadata": {},
   "source": [
    "So far, you have only considered the expected profits. However, from a risk-oriented perspective, it is important to also examine the outcome distribution of your decisions.\n",
    "\n",
    "**Note**:\n",
    "- You may have to modify your model in order to obtain the outcome distributions more easily (see the corresponding notebooks from the lecture)\n",
    "- If you were unable to complete task 3b) and/or 4, you may also use your model from task 3a) as a basis for your discussion."
   ]
  },
  {
   "cell_type": "markdown",
   "metadata": {},
   "source": [
    "**Task 5a)**: Plot the outcome distributions for your optimal solutions from tasks 3b) and 4). \n"
   ]
  },
  {
   "cell_type": "code",
   "execution_count": null,
   "metadata": {},
   "outputs": [],
   "source": []
  },
  {
   "cell_type": "markdown",
   "metadata": {},
   "source": [
    "**Task 5b)** For both optimal solutions from tasks 3b) and 4), what is the probability of exceeding a cost of:\n",
    "- 70000 \n",
    "- 85000\n",
    "- 100000\n",
    "\n",
    "What are the the 0.05-Values at Risk of both solutions?"
   ]
  },
  {
   "cell_type": "code",
   "execution_count": null,
   "metadata": {},
   "outputs": [],
   "source": []
  }
 ],
 "metadata": {
  "kernelspec": {
   "display_name": "Python [conda env:cords2024]",
   "language": "python",
   "name": "conda-env-cords2024-py"
  },
  "language_info": {
   "codemirror_mode": {
    "name": "ipython",
    "version": 3
   },
   "file_extension": ".py",
   "mimetype": "text/x-python",
   "name": "python",
   "nbconvert_exporter": "python",
   "pygments_lexer": "ipython3",
   "version": "3.10.14"
  },
  "toc": {
   "base_numbering": 1,
   "nav_menu": {},
   "number_sections": false,
   "sideBar": true,
   "skip_h1_title": false,
   "title_cell": "Table of Contents",
   "title_sidebar": "Contents",
   "toc_cell": false,
   "toc_position": {},
   "toc_section_display": true,
   "toc_window_display": false
  },
  "varInspector": {
   "cols": {
    "lenName": 16,
    "lenType": 16,
    "lenVar": 40
   },
   "kernels_config": {
    "python": {
     "delete_cmd_postfix": "",
     "delete_cmd_prefix": "del ",
     "library": "var_list.py",
     "varRefreshCmd": "print(var_dic_list())"
    },
    "r": {
     "delete_cmd_postfix": ") ",
     "delete_cmd_prefix": "rm(",
     "library": "var_list.r",
     "varRefreshCmd": "cat(var_dic_list()) "
    }
   },
   "types_to_exclude": [
    "module",
    "function",
    "builtin_function_or_method",
    "instance",
    "_Feature"
   ],
   "window_display": false
  }
 },
 "nbformat": 4,
 "nbformat_minor": 4
}
